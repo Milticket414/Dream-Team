{
 "metadata": {
  "language_info": {
   "codemirror_mode": {
    "name": "ipython",
    "version": 3
   },
   "file_extension": ".py",
   "mimetype": "text/x-python",
   "name": "python",
   "nbconvert_exporter": "python",
   "pygments_lexer": "ipython3",
   "version": "3.8.3-final"
  },
  "orig_nbformat": 2,
  "kernelspec": {
   "name": "python3",
   "display_name": "Python 3"
  }
 },
 "nbformat": 4,
 "nbformat_minor": 2,
 "cells": [
  {
   "cell_type": "code",
   "execution_count": 17,
   "metadata": {},
   "outputs": [],
   "source": [
    "import os\n",
    "import pandas as pd\n",
    "from pathlib import Path\n",
    "import csv"
   ]
  },
  {
   "cell_type": "code",
   "execution_count": 20,
   "metadata": {},
   "outputs": [],
   "source": [
    "# Read in returns from cleaned data\n",
    "\n",
    "five_assets_df = pd.read_csv(\"../Data/clean/five_Assets.csv\", index_col=\"Date\", parse_dates=True, infer_datetime_format=False)"
   ]
  },
  {
   "cell_type": "code",
   "execution_count": 21,
   "metadata": {},
   "outputs": [
    {
     "output_type": "execute_result",
     "data": {
      "text/plain": [
       "            Unnamed: 0      GOLD     sp500       VNQ   BITCOIN     FAANG\n",
       "Date                                                                    \n",
       "2019-10-31           0  0.011464 -0.001387  0.017443  0.004977  0.004508\n",
       "2019-11-01           1 -0.001749  0.009956 -0.004676 -0.004105  0.011144\n",
       "2019-11-04           2  0.000195 -0.002000  0.000000 -0.001570  0.010840\n",
       "2019-11-05           3 -0.017579  0.002763  0.003975 -0.002239 -0.004088\n",
       "2019-11-06           4  0.006207 -0.003919 -0.016437  0.006940 -0.003077"
      ],
      "text/html": "<div>\n<style scoped>\n    .dataframe tbody tr th:only-of-type {\n        vertical-align: middle;\n    }\n\n    .dataframe tbody tr th {\n        vertical-align: top;\n    }\n\n    .dataframe thead th {\n        text-align: right;\n    }\n</style>\n<table border=\"1\" class=\"dataframe\">\n  <thead>\n    <tr style=\"text-align: right;\">\n      <th></th>\n      <th>Unnamed: 0</th>\n      <th>GOLD</th>\n      <th>sp500</th>\n      <th>VNQ</th>\n      <th>BITCOIN</th>\n      <th>FAANG</th>\n    </tr>\n    <tr>\n      <th>Date</th>\n      <th></th>\n      <th></th>\n      <th></th>\n      <th></th>\n      <th></th>\n      <th></th>\n    </tr>\n  </thead>\n  <tbody>\n    <tr>\n      <th>2019-10-31</th>\n      <td>0</td>\n      <td>0.011464</td>\n      <td>-0.001387</td>\n      <td>0.017443</td>\n      <td>0.004977</td>\n      <td>0.004508</td>\n    </tr>\n    <tr>\n      <th>2019-11-01</th>\n      <td>1</td>\n      <td>-0.001749</td>\n      <td>0.009956</td>\n      <td>-0.004676</td>\n      <td>-0.004105</td>\n      <td>0.011144</td>\n    </tr>\n    <tr>\n      <th>2019-11-04</th>\n      <td>2</td>\n      <td>0.000195</td>\n      <td>-0.002000</td>\n      <td>0.000000</td>\n      <td>-0.001570</td>\n      <td>0.010840</td>\n    </tr>\n    <tr>\n      <th>2019-11-05</th>\n      <td>3</td>\n      <td>-0.017579</td>\n      <td>0.002763</td>\n      <td>0.003975</td>\n      <td>-0.002239</td>\n      <td>-0.004088</td>\n    </tr>\n    <tr>\n      <th>2019-11-06</th>\n      <td>4</td>\n      <td>0.006207</td>\n      <td>-0.003919</td>\n      <td>-0.016437</td>\n      <td>0.006940</td>\n      <td>-0.003077</td>\n    </tr>\n  </tbody>\n</table>\n</div>"
     },
     "metadata": {},
     "execution_count": 21
    }
   ],
   "source": [
    "five_assets_df.head()"
   ]
  },
  {
   "cell_type": "code",
   "execution_count": 22,
   "metadata": {},
   "outputs": [],
   "source": [
    "# Drop extra column\n",
    "\n",
    "five_assets_df.drop(columns=[\"Unnamed: 0\"], inplace=True)"
   ]
  },
  {
   "cell_type": "code",
   "execution_count": 23,
   "metadata": {},
   "outputs": [
    {
     "output_type": "execute_result",
     "data": {
      "text/plain": [
       "                GOLD     sp500       VNQ   BITCOIN     FAANG\n",
       "Date                                                        \n",
       "2019-10-31  0.011464 -0.001387  0.017443  0.004977  0.004508\n",
       "2019-11-01 -0.001749  0.009956 -0.004676 -0.004105  0.011144\n",
       "2019-11-04  0.000195 -0.002000  0.000000 -0.001570  0.010840\n",
       "2019-11-05 -0.017579  0.002763  0.003975 -0.002239 -0.004088\n",
       "2019-11-06  0.006207 -0.003919 -0.016437  0.006940 -0.003077"
      ],
      "text/html": "<div>\n<style scoped>\n    .dataframe tbody tr th:only-of-type {\n        vertical-align: middle;\n    }\n\n    .dataframe tbody tr th {\n        vertical-align: top;\n    }\n\n    .dataframe thead th {\n        text-align: right;\n    }\n</style>\n<table border=\"1\" class=\"dataframe\">\n  <thead>\n    <tr style=\"text-align: right;\">\n      <th></th>\n      <th>GOLD</th>\n      <th>sp500</th>\n      <th>VNQ</th>\n      <th>BITCOIN</th>\n      <th>FAANG</th>\n    </tr>\n    <tr>\n      <th>Date</th>\n      <th></th>\n      <th></th>\n      <th></th>\n      <th></th>\n      <th></th>\n    </tr>\n  </thead>\n  <tbody>\n    <tr>\n      <th>2019-10-31</th>\n      <td>0.011464</td>\n      <td>-0.001387</td>\n      <td>0.017443</td>\n      <td>0.004977</td>\n      <td>0.004508</td>\n    </tr>\n    <tr>\n      <th>2019-11-01</th>\n      <td>-0.001749</td>\n      <td>0.009956</td>\n      <td>-0.004676</td>\n      <td>-0.004105</td>\n      <td>0.011144</td>\n    </tr>\n    <tr>\n      <th>2019-11-04</th>\n      <td>0.000195</td>\n      <td>-0.002000</td>\n      <td>0.000000</td>\n      <td>-0.001570</td>\n      <td>0.010840</td>\n    </tr>\n    <tr>\n      <th>2019-11-05</th>\n      <td>-0.017579</td>\n      <td>0.002763</td>\n      <td>0.003975</td>\n      <td>-0.002239</td>\n      <td>-0.004088</td>\n    </tr>\n    <tr>\n      <th>2019-11-06</th>\n      <td>0.006207</td>\n      <td>-0.003919</td>\n      <td>-0.016437</td>\n      <td>0.006940</td>\n      <td>-0.003077</td>\n    </tr>\n  </tbody>\n</table>\n</div>"
     },
     "metadata": {},
     "execution_count": 23
    }
   ],
   "source": [
    "five_assets_df.head()"
   ]
  },
  {
   "cell_type": "code",
   "execution_count": null,
   "metadata": {},
   "outputs": [],
   "source": [
    "# Assign weights to Assets in portfolio components through user input\n",
    "\n",
    "GLD = float(input(\"ENTER WEIGHT OF Gold\"))\n",
    "SNP = float(input(\"ENTER WEIGHT OF sp500\"))\n",
    "VNQ = float(input(\"ENTER WEIGHT OF VNQ\"))\n",
    "BTC = float(input(\"ENTER WEIGHT OF Bitcoin\"))\n",
    "FNG= float(input(\"ENTER WEIGHT OF FAANG\"))\n",
    "\n",
    "if GLD + SNP + VNQ + BTC + FNG == 1:\n",
    "    portfolio_weights = [GLD, SNP, VNQ, BTC, FNG]\n",
    "\n",
    "    portfolio_return = five_assets_df.dot(portfolio_weights)\n",
    "\n",
    "    portfolio_return.plot(figsize = (20, 10))\n",
    "\n",
    "else:\n",
    "    print(\"Adjust your inputs. Total weight must equal 1\")\n",
    "\n",
    "portfolio_weights"
   ]
  },
  {
   "cell_type": "code",
   "execution_count": null,
   "metadata": {},
   "outputs": [],
   "source": []
  }
 ]
}