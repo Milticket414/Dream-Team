{
 "metadata": {
  "language_info": {
   "codemirror_mode": {
    "name": "ipython",
    "version": 3
   },
   "file_extension": ".py",
   "mimetype": "text/x-python",
   "name": "python",
   "nbconvert_exporter": "python",
   "pygments_lexer": "ipython3",
   "version": "3.8.3-final"
  },
  "orig_nbformat": 2,
  "kernelspec": {
   "name": "python3",
   "display_name": "Python 3"
  }
 },
 "nbformat": 4,
 "nbformat_minor": 2,
 "cells": [
  {
   "cell_type": "code",
   "execution_count": 1,
   "metadata": {},
   "outputs": [],
   "source": [
    "import os\n",
    "import pandas as pd\n",
    "from pathlib import Path\n",
    "import csv"
   ]
  },
  {
   "cell_type": "code",
   "execution_count": 59,
   "metadata": {},
   "outputs": [
    {
     "output_type": "execute_result",
     "data": {
      "text/plain": [
       "            BITCOIN\n",
       "Date               \n",
       "2020-10-29  0.24396\n",
       "2020-10-28  0.24549\n",
       "2020-10-27  0.25265\n",
       "2020-10-26  0.24818\n",
       "2020-10-25  0.25319\n",
       "...             ...\n",
       "2015-01-26  0.01469\n",
       "2015-01-25  0.01700\n",
       "2015-01-24  0.01739\n",
       "2015-01-23  0.01600\n",
       "2015-01-22  0.01602\n",
       "\n",
       "[2108 rows x 1 columns]"
      ],
      "text/html": "<div>\n<style scoped>\n    .dataframe tbody tr th:only-of-type {\n        vertical-align: middle;\n    }\n\n    .dataframe tbody tr th {\n        vertical-align: top;\n    }\n\n    .dataframe thead th {\n        text-align: right;\n    }\n</style>\n<table border=\"1\" class=\"dataframe\">\n  <thead>\n    <tr style=\"text-align: right;\">\n      <th></th>\n      <th>BITCOIN</th>\n    </tr>\n    <tr>\n      <th>Date</th>\n      <th></th>\n    </tr>\n  </thead>\n  <tbody>\n    <tr>\n      <th>2020-10-29</th>\n      <td>0.24396</td>\n    </tr>\n    <tr>\n      <th>2020-10-28</th>\n      <td>0.24549</td>\n    </tr>\n    <tr>\n      <th>2020-10-27</th>\n      <td>0.25265</td>\n    </tr>\n    <tr>\n      <th>2020-10-26</th>\n      <td>0.24818</td>\n    </tr>\n    <tr>\n      <th>2020-10-25</th>\n      <td>0.25319</td>\n    </tr>\n    <tr>\n      <th>...</th>\n      <td>...</td>\n    </tr>\n    <tr>\n      <th>2015-01-26</th>\n      <td>0.01469</td>\n    </tr>\n    <tr>\n      <th>2015-01-25</th>\n      <td>0.01700</td>\n    </tr>\n    <tr>\n      <th>2015-01-24</th>\n      <td>0.01739</td>\n    </tr>\n    <tr>\n      <th>2015-01-23</th>\n      <td>0.01600</td>\n    </tr>\n    <tr>\n      <th>2015-01-22</th>\n      <td>0.01602</td>\n    </tr>\n  </tbody>\n</table>\n<p>2108 rows × 1 columns</p>\n</div>"
     },
     "metadata": {},
     "execution_count": 59
    }
   ],
   "source": [
    "# import Historical Bitcoin, Bitcoin cash, Chainlink, Ethereum, Tether and XRP Data\n",
    "\n",
    "bitcoin_df = pd.read_csv(\"Data/Bitcoin_Historical_Data.csv\" , index_col=\"Date\", parse_dates=True, infer_datetime_format=False)\n",
    "\n",
    "# Change Price column name to BITCOIN\n",
    "bitcoin_df_col = xrp_df.rename(columns = {\"Price\" : \"BITCOIN\"})\n",
    "\n",
    "# Drop unnecessary columns\n",
    "bitcoin_data = bitcoin_df_col.drop(columns=[\"Open\", \"High\", \"Low\", \"Vol.\", \"Change %\"], inplace=True)\n",
    "\n",
    "bitcoin_df_col"
   ]
  },
  {
   "cell_type": "code",
   "execution_count": null,
   "metadata": {},
   "outputs": [],
   "source": []
  },
  {
   "cell_type": "code",
   "execution_count": null,
   "metadata": {},
   "outputs": [],
   "source": []
  }
 ]
}