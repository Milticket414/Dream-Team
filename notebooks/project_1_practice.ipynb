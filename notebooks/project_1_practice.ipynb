{
 "metadata": {
  "language_info": {
   "codemirror_mode": {
    "name": "ipython",
    "version": 3
   },
   "file_extension": ".py",
   "mimetype": "text/x-python",
   "name": "python",
   "nbconvert_exporter": "python",
   "pygments_lexer": "ipython3",
   "version": "3.8.3-final"
  },
  "orig_nbformat": 2,
  "kernelspec": {
   "name": "python3",
   "display_name": "Python 3"
  }
 },
 "nbformat": 4,
 "nbformat_minor": 2,
 "cells": [
  {
   "cell_type": "code",
   "execution_count": 1,
   "metadata": {},
   "outputs": [],
   "source": [
    "import requests\n",
    "from dotenv import load_dotenv\n",
    "import os \n",
    "import pandas as pd\n",
    "import numpy as np\n",
    "import alpaca_trade_api as tradeapi\n",
    "from mc_data_mess import MC_Df_Simulation\n",
    "import json"
   ]
  },
  {
   "cell_type": "code",
   "execution_count": 2,
   "metadata": {},
   "outputs": [],
   "source": [
    "# load_dotenv()"
   ]
  },
  {
   "cell_type": "code",
   "execution_count": 3,
   "metadata": {},
   "outputs": [],
   "source": [
    "# alpaca_api_key = os.getenv(\"APCA_API_KEY\")\n",
    "# alpaca_secret_key = os.getenv(\"APCA_API_SECRET\")\n",
    "# # Create the Alpaca API object\n",
    "# # YOUR CODE HERE!\n",
    "# alpaca = tradeapi.REST(\n",
    "#     alpaca_api_key,\n",
    "#     alpaca_secret_key,\n",
    "#     api_version= \"v2\")"
   ]
  },
  {
   "cell_type": "code",
   "execution_count": 4,
   "metadata": {},
   "outputs": [],
   "source": [
    "# print(f\"Alpaca Key type: {type(alpaca_api_key)}\")\n",
    "# print(f\"Alpca Secret Key type: {type(alpaca_secret_key)}\")"
   ]
  },
  {
   "cell_type": "code",
   "execution_count": 5,
   "metadata": {},
   "outputs": [],
   "source": [
    "# current_date = pd.Timestamp(\"2019-10-30\", tz=\"America/New_York\").isoformat()\n",
    "\n",
    "# tickers = [\"FB\", \"AAPL\", \"AMZN\", \"NFLX\", \"GOOGL\"]\n",
    "\n",
    "# timeframe = \"1D\""
   ]
  },
  {
   "cell_type": "code",
   "execution_count": 6,
   "metadata": {},
   "outputs": [],
   "source": [
    "# df_ticker = alpaca.get_barset(\n",
    "#     tickers,\n",
    "#     timeframe,\n",
    "#     start=current_date\n",
    "# ).df\n",
    "\n",
    "# df_ticker"
   ]
  },
  {
   "cell_type": "code",
   "execution_count": 7,
   "metadata": {},
   "outputs": [],
   "source": [
    "# df_closing_prices = pd.DataFrame()\n",
    "\n",
    "# for ticker in tickers:\n",
    "#     df_closing_prices[ticker] = df_ticker[ticker][\"close\"]\n",
    "# # Preview DataFrame\n",
    "# # YOUR CODE HERE!\n",
    "# df_closing_prices"
   ]
  },
  {
   "cell_type": "code",
   "execution_count": 8,
   "metadata": {},
   "outputs": [],
   "source": [
    "# df_closing_prices.index = df_closing_prices.index.date"
   ]
  },
  {
   "cell_type": "code",
   "execution_count": 9,
   "metadata": {},
   "outputs": [],
   "source": [
    "# df_closing_prices"
   ]
  },
  {
   "cell_type": "code",
   "execution_count": 10,
   "metadata": {},
   "outputs": [],
   "source": [
    "# df_current_price = df_closing_prices.tail(1)"
   ]
  },
  {
   "cell_type": "code",
   "execution_count": 11,
   "metadata": {},
   "outputs": [],
   "source": [
    "# df_current_price"
   ]
  },
  {
   "cell_type": "code",
   "execution_count": 12,
   "metadata": {},
   "outputs": [],
   "source": [
    "# fb_current_price = (df_current_price[\"FB\"])\n",
    "# aapl_current_price = (df_current_price[\"AAPL\"])\n",
    "# amzn_current_price = (df_current_price[\"AMZN\"])\n",
    "# nflx_current_price = (df_current_price[\"NFLX\"])\n",
    "# gogl_current_price = (df_current_price[\"GOOGL\"])"
   ]
  },
  {
   "cell_type": "code",
   "execution_count": 13,
   "metadata": {
    "tags": []
   },
   "outputs": [],
   "source": [
    "# print(f\"Current Faceboook closing prices: ${float(fb_current_price)}\")\n",
    "# print(f\"Current Apple closing prices: ${float(aapl_current_price)}\")\n",
    "# print(f\"Current Amazon closing prices: ${float(amzn_current_price)}\")\n",
    "# print(f\"Current Netflix closing prices: ${float(nflx_current_price)}\")\n",
    "# print(f\"Current Google closing prices: ${float(gogl_current_price)}\")"
   ]
  },
  {
   "cell_type": "code",
   "execution_count": 14,
   "metadata": {},
   "outputs": [],
   "source": [
    "# current_changes = df_closing_prices.pct_change().dropna()"
   ]
  },
  {
   "cell_type": "code",
   "execution_count": 15,
   "metadata": {},
   "outputs": [],
   "source": [
    "\n",
    "# FACE = float(input(\"ENTER WEIGHT OF Facebook\"))\n",
    "# APPLE = float(input(\"ENTER WEIGHT OF Apple\"))\n",
    "# AMAZON = float(input(\"ENTER WEIGHT OF Amazon\"))\n",
    "# NETFL = float(input(\"ENTER WEIGHT OF Netflix\"))\n",
    "# GOOGL= float(input(\"ENTER WEIGHT OF Google\"))\n",
    "\n",
    "# if FACE + APPLE + AMAZON + NETFL + GOOGL == 1:\n",
    "#     portfolio_weights = [FACE, APPLE, AMAZON, NETFL, GOOGL]\n",
    "\n",
    "#     portfolio_return = current_changes.dot(portfolio_weights)\n",
    "\n",
    "#     portfolio_return.plot(figsize = (20, 10))\n",
    "\n",
    "# else:\n",
    "#     print(\"Adjust your inputs. Total weight must equal 1\")\n",
    "\n",
    "# portfolio_weights"
   ]
  },
  {
   "cell_type": "code",
   "execution_count": 23,
   "metadata": {},
   "outputs": [],
   "source": [
    "filepath = (\"../data/csv_files/CLEAN_CSV_Project.csv\")\n",
    "portfolio_mc = pd.read_csv(filepath)"
   ]
  },
  {
   "cell_type": "code",
   "execution_count": 24,
   "metadata": {},
   "outputs": [
    {
     "output_type": "error",
     "ename": "NameError",
     "evalue": "name 'portfolio_df' is not defined",
     "traceback": [
      "\u001b[0;31m---------------------------------------------------------------------------\u001b[0m",
      "\u001b[0;31mNameError\u001b[0m                                 Traceback (most recent call last)",
      "\u001b[0;32m<ipython-input-24-f640e389caf0>\u001b[0m in \u001b[0;36m<module>\u001b[0;34m\u001b[0m\n\u001b[0;32m----> 1\u001b[0;31m \u001b[0mportfolio_mc\u001b[0m \u001b[0;34m=\u001b[0m \u001b[0mportfolio_df\u001b[0m\u001b[0;34m.\u001b[0m\u001b[0mset_index\u001b[0m\u001b[0;34m(\u001b[0m\u001b[0;34m\"Date\"\u001b[0m\u001b[0;34m)\u001b[0m\u001b[0;34m\u001b[0m\u001b[0;34m\u001b[0m\u001b[0m\n\u001b[0m\u001b[1;32m      2\u001b[0m \u001b[0;34m\u001b[0m\u001b[0m\n\u001b[1;32m      3\u001b[0m \u001b[0mportfolio_mc\u001b[0m\u001b[0;34m[\u001b[0m\u001b[0;34m\"Sum\"\u001b[0m\u001b[0;34m]\u001b[0m \u001b[0;34m=\u001b[0m \u001b[0mportfolio_mc\u001b[0m\u001b[0;34m[\u001b[0m\u001b[0;34m\"Sum\"\u001b[0m\u001b[0;34m]\u001b[0m\u001b[0;34m.\u001b[0m\u001b[0mfillna\u001b[0m\u001b[0;34m(\u001b[0m\u001b[0mportfolio_mc\u001b[0m\u001b[0;34m[\u001b[0m\u001b[0;34m\"Sum\"\u001b[0m\u001b[0;34m]\u001b[0m\u001b[0;34m.\u001b[0m\u001b[0mmean\u001b[0m\u001b[0;34m(\u001b[0m\u001b[0;34m)\u001b[0m\u001b[0;34m)\u001b[0m\u001b[0;34m\u001b[0m\u001b[0;34m\u001b[0m\u001b[0m\n\u001b[1;32m      4\u001b[0m \u001b[0mportfolio_mc\u001b[0m\u001b[0;34m\u001b[0m\u001b[0;34m\u001b[0m\u001b[0m\n",
      "\u001b[0;31mNameError\u001b[0m: name 'portfolio_df' is not defined"
     ]
    }
   ],
   "source": [
    "portfolio_mc = portfolio_df.set_index(\"Date\")\n",
    "\n",
    "portfolio_mc[\"Sum\"] = portfolio_mc[\"Sum\"].fillna(portfolio_mc[\"Sum\"].mean())\n",
    "portfolio_mc"
   ]
  },
  {
   "cell_type": "code",
   "execution_count": 25,
   "metadata": {},
   "outputs": [],
   "source": [
    "#portfolio_mc.calc_cumulative_return()"
   ]
  },
  {
   "cell_type": "code",
   "execution_count": 26,
   "metadata": {},
   "outputs": [
    {
     "output_type": "error",
     "ename": "NameError",
     "evalue": "name 'portfolio_forecast' is not defined",
     "traceback": [
      "\u001b[0;31m---------------------------------------------------------------------------\u001b[0m",
      "\u001b[0;31mNameError\u001b[0m                                 Traceback (most recent call last)",
      "\u001b[0;32m<ipython-input-26-7fe8f6070738>\u001b[0m in \u001b[0;36m<module>\u001b[0;34m\u001b[0m\n\u001b[0;32m----> 1\u001b[0;31m \u001b[0mportfolio_forecast\u001b[0m\u001b[0;34m.\u001b[0m\u001b[0mportfolio_data\u001b[0m\u001b[0;34m.\u001b[0m\u001b[0mtail\u001b[0m\u001b[0;34m(\u001b[0m\u001b[0;34m)\u001b[0m\u001b[0;34m\u001b[0m\u001b[0;34m\u001b[0m\u001b[0m\n\u001b[0m",
      "\u001b[0;31mNameError\u001b[0m: name 'portfolio_forecast' is not defined"
     ]
    }
   ],
   "source": [
    "portfolio_forecast.portfolio_data.tail()"
   ]
  },
  {
   "cell_type": "code",
   "execution_count": 27,
   "metadata": {},
   "outputs": [
    {
     "output_type": "error",
     "ename": "NameError",
     "evalue": "name 'px' is not defined",
     "traceback": [
      "\u001b[0;31m---------------------------------------------------------------------------\u001b[0m",
      "\u001b[0;31mNameError\u001b[0m                                 Traceback (most recent call last)",
      "\u001b[0;32m<ipython-input-27-2f2ff721f3f4>\u001b[0m in \u001b[0;36m<module>\u001b[0;34m\u001b[0m\n\u001b[1;32m      2\u001b[0m \u001b[0mmapbox_api_key\u001b[0m \u001b[0;34m=\u001b[0m \u001b[0mos\u001b[0m\u001b[0;34m.\u001b[0m\u001b[0mgetenv\u001b[0m\u001b[0;34m(\u001b[0m\u001b[0;34m\"MAPBOX_API\"\u001b[0m\u001b[0;34m)\u001b[0m\u001b[0;34m\u001b[0m\u001b[0;34m\u001b[0m\u001b[0m\n\u001b[1;32m      3\u001b[0m \u001b[0;34m\u001b[0m\u001b[0m\n\u001b[0;32m----> 4\u001b[0;31m \u001b[0mpx\u001b[0m\u001b[0;34m.\u001b[0m\u001b[0mset_mapbox_access_token\u001b[0m\u001b[0;34m(\u001b[0m\u001b[0mmapbox_api_key\u001b[0m\u001b[0;34m)\u001b[0m\u001b[0;34m\u001b[0m\u001b[0;34m\u001b[0m\u001b[0m\n\u001b[0m",
      "\u001b[0;31mNameError\u001b[0m: name 'px' is not defined"
     ]
    }
   ],
   "source": [
    "load_dotenv()\n",
    "mapbox_api_key = os.getenv(\"MAPBOX_API\")\n",
    "\n",
    "px.set_mapbox_access_token(mapbox_api_key)"
   ]
  },
  {
   "cell_type": "code",
   "execution_count": 28,
   "metadata": {},
   "outputs": [
    {
     "output_type": "error",
     "ename": "NameError",
     "evalue": "name 'portfolio_forecast' is not defined",
     "traceback": [
      "\u001b[0;31m---------------------------------------------------------------------------\u001b[0m",
      "\u001b[0;31mNameError\u001b[0m                                 Traceback (most recent call last)",
      "\u001b[0;32m<ipython-input-28-224368211451>\u001b[0m in \u001b[0;36m<module>\u001b[0;34m\u001b[0m\n\u001b[0;32m----> 1\u001b[0;31m \u001b[0mportfolio_forecast\u001b[0m\u001b[0;34m.\u001b[0m\u001b[0mcalc_cumulative_return\u001b[0m\u001b[0;34m(\u001b[0m\u001b[0;34m)\u001b[0m\u001b[0;34m\u001b[0m\u001b[0;34m\u001b[0m\u001b[0m\n\u001b[0m",
      "\u001b[0;31mNameError\u001b[0m: name 'portfolio_forecast' is not defined"
     ]
    }
   ],
   "source": [
    "portfolio_forecast.calc_cumulative_return()"
   ]
  },
  {
   "cell_type": "code",
   "execution_count": 29,
   "metadata": {},
   "outputs": [
    {
     "output_type": "error",
     "ename": "NameError",
     "evalue": "name 'portfolio_forecast' is not defined",
     "traceback": [
      "\u001b[0;31m---------------------------------------------------------------------------\u001b[0m",
      "\u001b[0;31mNameError\u001b[0m                                 Traceback (most recent call last)",
      "\u001b[0;32m<ipython-input-29-8cc88f795556>\u001b[0m in \u001b[0;36m<module>\u001b[0;34m\u001b[0m\n\u001b[0;32m----> 1\u001b[0;31m \u001b[0mportfolio_forecast\u001b[0m\u001b[0;34m.\u001b[0m\u001b[0mfake\u001b[0m\u001b[0;34m\u001b[0m\u001b[0;34m\u001b[0m\u001b[0m\n\u001b[0m",
      "\u001b[0;31mNameError\u001b[0m: name 'portfolio_forecast' is not defined"
     ]
    }
   ],
   "source": [
    "portfolio_forecast.fake"
   ]
  },
  {
   "cell_type": "code",
   "execution_count": 30,
   "metadata": {},
   "outputs": [
    {
     "output_type": "error",
     "ename": "NameError",
     "evalue": "name 'portfolio_forecast' is not defined",
     "traceback": [
      "\u001b[0;31m---------------------------------------------------------------------------\u001b[0m",
      "\u001b[0;31mNameError\u001b[0m                                 Traceback (most recent call last)",
      "\u001b[0;32m<ipython-input-30-eadfbac01353>\u001b[0m in \u001b[0;36m<module>\u001b[0;34m\u001b[0m\n\u001b[0;32m----> 1\u001b[0;31m \u001b[0mportfolio_forecast\u001b[0m\u001b[0;34m.\u001b[0m\u001b[0mplot_simulation\u001b[0m\u001b[0;34m(\u001b[0m\u001b[0;34m)\u001b[0m\u001b[0;34m\u001b[0m\u001b[0;34m\u001b[0m\u001b[0m\n\u001b[0m",
      "\u001b[0;31mNameError\u001b[0m: name 'portfolio_forecast' is not defined"
     ]
    }
   ],
   "source": [
    "portfolio_forecast.plot_simulation()"
   ]
  },
  {
   "cell_type": "code",
   "execution_count": null,
   "metadata": {},
   "outputs": [],
   "source": []
  }
 ]
}