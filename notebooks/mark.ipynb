{
 "metadata": {
  "language_info": {
   "codemirror_mode": {
    "name": "ipython",
    "version": 3
   },
   "file_extension": ".py",
   "mimetype": "text/x-python",
   "name": "python",
   "nbconvert_exporter": "python",
   "pygments_lexer": "ipython3",
   "version": "3.8.3-final"
  },
  "orig_nbformat": 2,
  "kernelspec": {
   "name": "python_defaultSpec_1604361617134",
   "display_name": "Python 3.8.3 64-bit ('base': conda)"
  }
 },
 "nbformat": 4,
 "nbformat_minor": 2,
 "cells": [
  {
   "cell_type": "code",
   "execution_count": 1,
   "metadata": {},
   "outputs": [],
   "source": [
    "import os\n",
    "import pandas as pd\n",
    "from pathlib import Path\n",
    "import numpy as np\n",
    "import datetime as dt\n",
    "import csv\n",
    "%matplotlib inline"
   ]
  },
  {
   "cell_type": "code",
   "execution_count": 2,
   "metadata": {},
   "outputs": [],
   "source": [
    "# bringing in data\n",
    "bitcoin_path = (\"../Data/clean/Bitcoin.csv\")\n",
    "gold_path = (\"../Data/clean/Gold.csv\")\n",
    "vnq_path = (\"../Data/clean/VNQ.csv\")\n",
    "sp500_path = (\"../Data/clean/sp500.csv\")\n",
    "fang_path = (\"../Data/clean/FAANG.csv\")"
   ]
  },
  {
   "cell_type": "code",
   "execution_count": 3,
   "metadata": {},
   "outputs": [],
   "source": [
    "# reading in data\n",
    "bitcoin_df = pd.read_csv(bitcoin_path)\n",
    "gold_df = pd.read_csv(gold_path)\n",
    "vnq_df = pd.read_csv(vnq_path)\n",
    "sp500_df = pd.read_csv(sp500_path)\n",
    "fang_df = pd.read_csv(fang_path)"
   ]
  },
  {
   "cell_type": "code",
   "execution_count": 110,
   "metadata": {},
   "outputs": [
    {
     "output_type": "execute_result",
     "data": {
      "text/plain": "              GOLD    sp500    VNQ\nDate                              \n2019-10-14  1527.1  2984.87  77.10\n2019-10-15  1513.1  2977.62  76.08\n2019-10-16  1523.4  2961.79  77.94\n2019-10-17  1527.8  2976.74  79.21\n2019-10-18  1523.0  2940.25  80.36",
      "text/html": "<div>\n<style scoped>\n    .dataframe tbody tr th:only-of-type {\n        vertical-align: middle;\n    }\n\n    .dataframe tbody tr th {\n        vertical-align: top;\n    }\n\n    .dataframe thead th {\n        text-align: right;\n    }\n</style>\n<table border=\"1\" class=\"dataframe\">\n  <thead>\n    <tr style=\"text-align: right;\">\n      <th></th>\n      <th>GOLD</th>\n      <th>sp500</th>\n      <th>VNQ</th>\n    </tr>\n    <tr>\n      <th>Date</th>\n      <th></th>\n      <th></th>\n      <th></th>\n    </tr>\n  </thead>\n  <tbody>\n    <tr>\n      <th>2019-10-14</th>\n      <td>1527.1</td>\n      <td>2984.87</td>\n      <td>77.10</td>\n    </tr>\n    <tr>\n      <th>2019-10-15</th>\n      <td>1513.1</td>\n      <td>2977.62</td>\n      <td>76.08</td>\n    </tr>\n    <tr>\n      <th>2019-10-16</th>\n      <td>1523.4</td>\n      <td>2961.79</td>\n      <td>77.94</td>\n    </tr>\n    <tr>\n      <th>2019-10-17</th>\n      <td>1527.8</td>\n      <td>2976.74</td>\n      <td>79.21</td>\n    </tr>\n    <tr>\n      <th>2019-10-18</th>\n      <td>1523.0</td>\n      <td>2940.25</td>\n      <td>80.36</td>\n    </tr>\n  </tbody>\n</table>\n</div>"
     },
     "metadata": {},
     "execution_count": 110
    }
   ],
   "source": [
    "# data that does not change on weekends\n",
    "\n",
    "no_weekend = pd.concat([gold_df, sp500_df, vnq_df], axis=1, join= \"inner\")\n",
    "\n",
    "Cols = list(no_weekend.columns)\n",
    "\n",
    "for i, item in enumerate(no_weekend.columns):\n",
    "    if item in no_weekend.columns[:i]:Cols[i] = \"toDROP\"\n",
    "\n",
    "no_weekend.columns = Cols\n",
    "\n",
    "joined_no_weekend = no_weekend.drop(\"toDROP\", 1).set_index(\"Date\", inplace=False).dropna()\n",
    "\n",
    "joined_no_weekend = joined_no_weekend.iloc[::-1]\n",
    "joined_no_weekend.head()"
   ]
  },
  {
   "cell_type": "code",
   "execution_count": 112,
   "metadata": {
    "tags": []
   },
   "outputs": [
    {
     "output_type": "execute_result",
     "data": {
      "text/plain": "           Date      GOLD     sp500       VNQ\n260  2020-10-23  0.000315  0.003446  0.017277\n261  2020-10-26  0.000262 -0.018590  0.007050\n262  2020-10-27  0.003253 -0.003026  0.000212\n263  2020-10-28 -0.017103 -0.035288  0.001803\n264  2020-10-29 -0.005614  0.011947 -0.003599",
      "text/html": "<div>\n<style scoped>\n    .dataframe tbody tr th:only-of-type {\n        vertical-align: middle;\n    }\n\n    .dataframe tbody tr th {\n        vertical-align: top;\n    }\n\n    .dataframe thead th {\n        text-align: right;\n    }\n</style>\n<table border=\"1\" class=\"dataframe\">\n  <thead>\n    <tr style=\"text-align: right;\">\n      <th></th>\n      <th>Date</th>\n      <th>GOLD</th>\n      <th>sp500</th>\n      <th>VNQ</th>\n    </tr>\n  </thead>\n  <tbody>\n    <tr>\n      <th>260</th>\n      <td>2020-10-23</td>\n      <td>0.000315</td>\n      <td>0.003446</td>\n      <td>0.017277</td>\n    </tr>\n    <tr>\n      <th>261</th>\n      <td>2020-10-26</td>\n      <td>0.000262</td>\n      <td>-0.018590</td>\n      <td>0.007050</td>\n    </tr>\n    <tr>\n      <th>262</th>\n      <td>2020-10-27</td>\n      <td>0.003253</td>\n      <td>-0.003026</td>\n      <td>0.000212</td>\n    </tr>\n    <tr>\n      <th>263</th>\n      <td>2020-10-28</td>\n      <td>-0.017103</td>\n      <td>-0.035288</td>\n      <td>0.001803</td>\n    </tr>\n    <tr>\n      <th>264</th>\n      <td>2020-10-29</td>\n      <td>-0.005614</td>\n      <td>0.011947</td>\n      <td>-0.003599</td>\n    </tr>\n  </tbody>\n</table>\n</div>"
     },
     "metadata": {},
     "execution_count": 112
    }
   ],
   "source": [
    "# changing from daily price to daily pct_change\n",
    "\n",
    "pct_change_no_fang = joined_no_weekend.pct_change().dropna()\n",
    "\n",
    "pct_change_no_fang.to_csv(\"../data/csv_files/weird_dates.csv\")\n",
    "cleaned_no_fang_percentages = pct_change_no_fang.iloc[12:].reset_index()\n",
    "cleaned_no_fang_percentages.tail()"
   ]
  },
  {
   "cell_type": "code",
   "execution_count": 122,
   "metadata": {},
   "outputs": [
    {
     "output_type": "execute_result",
     "data": {
      "text/plain": "           Date     FAANG\n246  2020-10-22 -0.002887\n247  2020-10-23  0.008706\n248  2020-10-26 -0.009420\n249  2020-10-27  0.014342\n250  2020-10-28 -0.038724",
      "text/html": "<div>\n<style scoped>\n    .dataframe tbody tr th:only-of-type {\n        vertical-align: middle;\n    }\n\n    .dataframe tbody tr th {\n        vertical-align: top;\n    }\n\n    .dataframe thead th {\n        text-align: right;\n    }\n</style>\n<table border=\"1\" class=\"dataframe\">\n  <thead>\n    <tr style=\"text-align: right;\">\n      <th></th>\n      <th>Date</th>\n      <th>FAANG</th>\n    </tr>\n  </thead>\n  <tbody>\n    <tr>\n      <th>246</th>\n      <td>2020-10-22</td>\n      <td>-0.002887</td>\n    </tr>\n    <tr>\n      <th>247</th>\n      <td>2020-10-23</td>\n      <td>0.008706</td>\n    </tr>\n    <tr>\n      <th>248</th>\n      <td>2020-10-26</td>\n      <td>-0.009420</td>\n    </tr>\n    <tr>\n      <th>249</th>\n      <td>2020-10-27</td>\n      <td>0.014342</td>\n    </tr>\n    <tr>\n      <th>250</th>\n      <td>2020-10-28</td>\n      <td>-0.038724</td>\n    </tr>\n  </tbody>\n</table>\n</div>"
     },
     "metadata": {},
     "execution_count": 122
    }
   ],
   "source": [
    "# FAANG DF, percent change\n",
    "fang_df.tail()"
   ]
  },
  {
   "cell_type": "code",
   "execution_count": 126,
   "metadata": {},
   "outputs": [
    {
     "output_type": "execute_result",
     "data": {
      "text/plain": "                GOLD     sp500       VNQ     FAANG\nDate                                              \n2020-10-05  0.006553  0.017976 -0.003158 -0.002887\n2020-10-06 -0.005885 -0.013988  0.003714  0.008706\n2020-10-07 -0.009430  0.017406  0.014256 -0.009420\n2020-10-08  0.002274  0.008007  0.000536  0.014342\n2020-10-09  0.016411  0.008791 -0.001716 -0.038724",
      "text/html": "<div>\n<style scoped>\n    .dataframe tbody tr th:only-of-type {\n        vertical-align: middle;\n    }\n\n    .dataframe tbody tr th {\n        vertical-align: top;\n    }\n\n    .dataframe thead th {\n        text-align: right;\n    }\n</style>\n<table border=\"1\" class=\"dataframe\">\n  <thead>\n    <tr style=\"text-align: right;\">\n      <th></th>\n      <th>GOLD</th>\n      <th>sp500</th>\n      <th>VNQ</th>\n      <th>FAANG</th>\n    </tr>\n    <tr>\n      <th>Date</th>\n      <th></th>\n      <th></th>\n      <th></th>\n      <th></th>\n    </tr>\n  </thead>\n  <tbody>\n    <tr>\n      <th>2020-10-05</th>\n      <td>0.006553</td>\n      <td>0.017976</td>\n      <td>-0.003158</td>\n      <td>-0.002887</td>\n    </tr>\n    <tr>\n      <th>2020-10-06</th>\n      <td>-0.005885</td>\n      <td>-0.013988</td>\n      <td>0.003714</td>\n      <td>0.008706</td>\n    </tr>\n    <tr>\n      <th>2020-10-07</th>\n      <td>-0.009430</td>\n      <td>0.017406</td>\n      <td>0.014256</td>\n      <td>-0.009420</td>\n    </tr>\n    <tr>\n      <th>2020-10-08</th>\n      <td>0.002274</td>\n      <td>0.008007</td>\n      <td>0.000536</td>\n      <td>0.014342</td>\n    </tr>\n    <tr>\n      <th>2020-10-09</th>\n      <td>0.016411</td>\n      <td>0.008791</td>\n      <td>-0.001716</td>\n      <td>-0.038724</td>\n    </tr>\n  </tbody>\n</table>\n</div>"
     },
     "metadata": {},
     "execution_count": 126
    }
   ],
   "source": [
    "sorta_clean = pd.concat([cleaned_no_fang_percentages, fang_df], axis=\"columns\", join=\"outer\")\n",
    "Cols = list(sorta_clean.columns)\n",
    "\n",
    "for i, item in enumerate(sorta_clean.columns):\n",
    "    if item in sorta_clean.columns[:i]:Cols[i] = \"toDROP\"\n",
    "\n",
    "sorta_clean.columns = Cols\n",
    "\n",
    "joined_sorta_clean = sorta_clean.drop(\"toDROP\", 1).set_index(\"Date\", inplace=False).dropna()\n",
    "\n",
    "joined_sorta_clean.to_csv(\"../data/clean/clean_no_btc.csv\")\n",
    "joined_sorta_clean.tail()"
   ]
  },
  {
   "cell_type": "code",
   "execution_count": null,
   "metadata": {},
   "outputs": [],
   "source": []
  }
 ]
}