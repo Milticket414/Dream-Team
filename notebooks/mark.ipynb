{
 "metadata": {
  "language_info": {
   "codemirror_mode": {
    "name": "ipython",
    "version": 3
   },
   "file_extension": ".py",
   "mimetype": "text/x-python",
   "name": "python",
   "nbconvert_exporter": "python",
   "pygments_lexer": "ipython3",
   "version": "3.8.3-final"
  },
  "orig_nbformat": 2,
  "kernelspec": {
   "name": "python_defaultSpec_1604361617134",
   "display_name": "Python 3.8.3 64-bit ('base': conda)"
  }
 },
 "nbformat": 4,
 "nbformat_minor": 2,
 "cells": [
  {
   "cell_type": "code",
   "execution_count": 1,
   "metadata": {},
   "outputs": [],
   "source": [
    "import os\n",
    "import pandas as pd\n",
    "from pathlib import Path\n",
    "import numpy as np\n",
    "import datetime as dt\n",
    "import csv\n",
    "%matplotlib inline"
   ]
  },
  {
   "cell_type": "code",
   "execution_count": 2,
   "metadata": {},
   "outputs": [],
   "source": [
    "# bringing in data\n",
    "bitcoin_path = (\"../Data/clean/Bitcoin.csv\")\n",
    "gold_path = (\"../Data/clean/Gold.csv\")\n",
    "vnq_path = (\"../Data/clean/VNQ.csv\")\n",
    "sp500_path = (\"../Data/clean/sp500.csv\")\n",
    "fang_path = (\"../Data/clean/FAANG.csv\")"
   ]
  },
  {
   "cell_type": "code",
   "execution_count": 3,
   "metadata": {},
   "outputs": [],
   "source": [
    "# reading in data\n",
    "bitcoin_df = pd.read_csv(bitcoin_path)\n",
    "gold_df = pd.read_csv(gold_path)\n",
    "vnq_df = pd.read_csv(vnq_path)\n",
    "sp500_df = pd.read_csv(sp500_path)\n",
    "fang_df = pd.read_csv(fang_path)"
   ]
  },
  {
   "cell_type": "code",
   "execution_count": 81,
   "metadata": {},
   "outputs": [
    {
     "output_type": "execute_result",
     "data": {
      "text/plain": "              GOLD    sp500    VNQ\nDate                              \n2019-10-14  1527.1  2984.87  77.10\n2019-10-15  1513.1  2977.62  76.08\n2019-10-16  1523.4  2961.79  77.94\n2019-10-17  1527.8  2976.74  79.21\n2019-10-18  1523.0  2940.25  80.36",
      "text/html": "<div>\n<style scoped>\n    .dataframe tbody tr th:only-of-type {\n        vertical-align: middle;\n    }\n\n    .dataframe tbody tr th {\n        vertical-align: top;\n    }\n\n    .dataframe thead th {\n        text-align: right;\n    }\n</style>\n<table border=\"1\" class=\"dataframe\">\n  <thead>\n    <tr style=\"text-align: right;\">\n      <th></th>\n      <th>GOLD</th>\n      <th>sp500</th>\n      <th>VNQ</th>\n    </tr>\n    <tr>\n      <th>Date</th>\n      <th></th>\n      <th></th>\n      <th></th>\n    </tr>\n  </thead>\n  <tbody>\n    <tr>\n      <th>2019-10-14</th>\n      <td>1527.1</td>\n      <td>2984.87</td>\n      <td>77.10</td>\n    </tr>\n    <tr>\n      <th>2019-10-15</th>\n      <td>1513.1</td>\n      <td>2977.62</td>\n      <td>76.08</td>\n    </tr>\n    <tr>\n      <th>2019-10-16</th>\n      <td>1523.4</td>\n      <td>2961.79</td>\n      <td>77.94</td>\n    </tr>\n    <tr>\n      <th>2019-10-17</th>\n      <td>1527.8</td>\n      <td>2976.74</td>\n      <td>79.21</td>\n    </tr>\n    <tr>\n      <th>2019-10-18</th>\n      <td>1523.0</td>\n      <td>2940.25</td>\n      <td>80.36</td>\n    </tr>\n  </tbody>\n</table>\n</div>"
     },
     "metadata": {},
     "execution_count": 81
    }
   ],
   "source": [
    "# data that does not change on weekends\n",
    "\n",
    "no_weekend = pd.concat([gold_df, sp500_df, vnq_df], axis=1, join= \"inner\")\n",
    "\n",
    "Cols = list(no_weekend.columns)\n",
    "\n",
    "for i, item in enumerate(no_weekend.columns):\n",
    "    if item in no_weekend.columns[:i]:Cols[i] = \"toDROP\"\n",
    "\n",
    "no_weekend.columns = Cols\n",
    "\n",
    "joined_no_weekend = no_weekend.drop(\"toDROP\", 1).set_index(\"Date\", inplace=False).dropna()\n",
    "\n",
    "joined_no_weekend = joined_no_weekend.iloc[::-1]\n",
    "joined_no_weekend.head()"
   ]
  },
  {
   "cell_type": "code",
   "execution_count": 87,
   "metadata": {
    "tags": []
   },
   "outputs": [],
   "source": [
    "# changing from daily price to daily pct_change\n",
    "\n",
    "pct_change_no_fang = joined_no_weekend.pct_change().dropna()\n",
    "\n",
    "pct_change_no_fang.to_csv(\"../data/csv_files/weird_dates.csv\")\n",
    "cleaned_no_fang_percentages = pct_change_no_fang.iloc[12:].reset_index()"
   ]
  },
  {
   "cell_type": "code",
   "execution_count": 80,
   "metadata": {},
   "outputs": [
    {
     "output_type": "execute_result",
     "data": {
      "text/plain": "         Date     FAANG\n0  2019-10-31  0.004508\n1  2019-11-01  0.011144\n2  2019-11-04  0.010840\n3  2019-11-05 -0.004088\n4  2019-11-06 -0.003077",
      "text/html": "<div>\n<style scoped>\n    .dataframe tbody tr th:only-of-type {\n        vertical-align: middle;\n    }\n\n    .dataframe tbody tr th {\n        vertical-align: top;\n    }\n\n    .dataframe thead th {\n        text-align: right;\n    }\n</style>\n<table border=\"1\" class=\"dataframe\">\n  <thead>\n    <tr style=\"text-align: right;\">\n      <th></th>\n      <th>Date</th>\n      <th>FAANG</th>\n    </tr>\n  </thead>\n  <tbody>\n    <tr>\n      <th>0</th>\n      <td>2019-10-31</td>\n      <td>0.004508</td>\n    </tr>\n    <tr>\n      <th>1</th>\n      <td>2019-11-01</td>\n      <td>0.011144</td>\n    </tr>\n    <tr>\n      <th>2</th>\n      <td>2019-11-04</td>\n      <td>0.010840</td>\n    </tr>\n    <tr>\n      <th>3</th>\n      <td>2019-11-05</td>\n      <td>-0.004088</td>\n    </tr>\n    <tr>\n      <th>4</th>\n      <td>2019-11-06</td>\n      <td>-0.003077</td>\n    </tr>\n  </tbody>\n</table>\n</div>"
     },
     "metadata": {},
     "execution_count": 80
    }
   ],
   "source": [
    "# FAANG DF, percent change\n",
    "fang_df.head()"
   ]
  },
  {
   "cell_type": "code",
   "execution_count": 95,
   "metadata": {},
   "outputs": [],
   "source": [
    "sorta_clean = pd.concat([cleaned_no_fang_percentages, fang_df], axis=\"columns\", join=\"outer\")\n",
    "Cols = list(sorta_clean.columns)\n",
    "\n",
    "for i, item in enumerate(sorta_clean.columns):\n",
    "    if item in sorta_clean.columns[:i]:Cols[i] = \"toDROP\"\n",
    "\n",
    "sorta_clean.columns = Cols\n",
    "\n",
    "joined_sorta_clean = sorta_clean.drop(\"toDROP\", 1).set_index(\"Date\", inplace=False).dropna()\n",
    "\n",
    "joined_sorta_clean.to_csv(\"../data/clean/clean_no_btc.csv\")"
   ]
  },
  {
   "cell_type": "code",
   "execution_count": null,
   "metadata": {},
   "outputs": [],
   "source": []
  },
  {
   "cell_type": "code",
   "execution_count": null,
   "metadata": {},
   "outputs": [],
   "source": []
  },
  {
   "cell_type": "code",
   "execution_count": null,
   "metadata": {},
   "outputs": [],
   "source": []
  }
 ]
}