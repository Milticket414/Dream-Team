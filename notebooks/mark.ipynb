{
 "metadata": {
  "language_info": {
   "codemirror_mode": {
    "name": "ipython",
    "version": 3
   },
   "file_extension": ".py",
   "mimetype": "text/x-python",
   "name": "python",
   "nbconvert_exporter": "python",
   "pygments_lexer": "ipython3",
   "version": "3.8.3-final"
  },
  "orig_nbformat": 2,
  "kernelspec": {
   "name": "python_defaultSpec_1604157410926",
   "display_name": "Python 3.8.3 64-bit ('base': conda)"
  }
 },
 "nbformat": 4,
 "nbformat_minor": 2,
 "cells": [
  {
   "cell_type": "code",
   "execution_count": 1,
   "metadata": {},
   "outputs": [],
   "source": [
    "import os\n",
    "import pandas as pd\n",
    "from pathlib import Path\n",
    "import numpy as np\n",
    "import datetime as dt\n",
    "import csv\n",
    "%matplotlib inline"
   ]
  },
  {
   "cell_type": "code",
   "execution_count": 20,
   "metadata": {},
   "outputs": [],
   "source": [
    "bitcoin_path = (\"../Data/clean/Bitcoin.csv\")\n",
    "gold_path = (\"../Data/clean/Gold.csv\")\n",
    "#van_path = (\"../Data/raw_csv/VNQ.csv\")\n",
    "sp500_path = (\"../Data/clean/sp500.csv\")\n",
    "amazon_path = (\"../Data/clean/Amazon.csv\")\n",
    "apple_path = (\"../Data/clean/Apple.csv\")\n",
    "facebook_path = (\"../Data/clean/Facebook.csv\")\n",
    "google_path = (\"../Data/clean/Google.csv\")\n",
    "netflix_path = (\"../Data/clean/Netflix.csv\")"
   ]
  },
  {
   "cell_type": "code",
   "execution_count": 21,
   "metadata": {},
   "outputs": [],
   "source": [
    "bitcoin_df = pd.read_csv(bitcoin_path)\n",
    "gold_df = pd.read_csv(gold_path)\n",
    "## van_df = pd.read_csv(van_path)\n",
    "sp500_df = pd.read_csv(sp500_path)\n",
    "amazon_df = pd.read_csv(amazon_path)\n",
    "apple_df = pd.read_csv(apple_path)\n",
    "facebook_df = pd.read_csv(facebook_path)\n",
    "google_df = pd.read_csv(google_path)\n",
    "netflix_df = pd.read_csv(netflix_path)"
   ]
  },
  {
   "cell_type": "code",
   "execution_count": 25,
   "metadata": {},
   "outputs": [
    {
     "output_type": "execute_result",
     "data": {
      "text/plain": "         Date    Close        Date  Close      Date   Close        Date  \\\n0  10/29/2019  1762.71  10/29/2019  60.82  10/29/19  189.31  10/29/2019   \n1  10/30/2019  1779.99  10/30/2019  60.82  10/30/19  188.25  10/30/2019   \n2  10/31/2019  1776.66  10/31/2019  62.19  10/31/19  191.65  10/31/2019   \n3   11/1/2019  1791.44   11/1/2019  63.96   11/1/19  193.62   11/1/2019   \n4   11/4/2019  1804.66   11/4/2019  64.38   11/4/19  194.72   11/4/2019   \n\n     Close        Date   Close  \n0  1260.66  10/29/2019  281.21  \n1  1260.70  10/30/2019  291.45  \n2  1258.80  10/31/2019  287.41  \n3  1272.25   11/1/2019  286.81  \n4  1289.61   11/4/2019  292.86  ",
      "text/html": "<div>\n<style scoped>\n    .dataframe tbody tr th:only-of-type {\n        vertical-align: middle;\n    }\n\n    .dataframe tbody tr th {\n        vertical-align: top;\n    }\n\n    .dataframe thead th {\n        text-align: right;\n    }\n</style>\n<table border=\"1\" class=\"dataframe\">\n  <thead>\n    <tr style=\"text-align: right;\">\n      <th></th>\n      <th>Date</th>\n      <th>Close</th>\n      <th>Date</th>\n      <th>Close</th>\n      <th>Date</th>\n      <th>Close</th>\n      <th>Date</th>\n      <th>Close</th>\n      <th>Date</th>\n      <th>Close</th>\n    </tr>\n  </thead>\n  <tbody>\n    <tr>\n      <th>0</th>\n      <td>10/29/2019</td>\n      <td>1762.71</td>\n      <td>10/29/2019</td>\n      <td>60.82</td>\n      <td>10/29/19</td>\n      <td>189.31</td>\n      <td>10/29/2019</td>\n      <td>1260.66</td>\n      <td>10/29/2019</td>\n      <td>281.21</td>\n    </tr>\n    <tr>\n      <th>1</th>\n      <td>10/30/2019</td>\n      <td>1779.99</td>\n      <td>10/30/2019</td>\n      <td>60.82</td>\n      <td>10/30/19</td>\n      <td>188.25</td>\n      <td>10/30/2019</td>\n      <td>1260.70</td>\n      <td>10/30/2019</td>\n      <td>291.45</td>\n    </tr>\n    <tr>\n      <th>2</th>\n      <td>10/31/2019</td>\n      <td>1776.66</td>\n      <td>10/31/2019</td>\n      <td>62.19</td>\n      <td>10/31/19</td>\n      <td>191.65</td>\n      <td>10/31/2019</td>\n      <td>1258.80</td>\n      <td>10/31/2019</td>\n      <td>287.41</td>\n    </tr>\n    <tr>\n      <th>3</th>\n      <td>11/1/2019</td>\n      <td>1791.44</td>\n      <td>11/1/2019</td>\n      <td>63.96</td>\n      <td>11/1/19</td>\n      <td>193.62</td>\n      <td>11/1/2019</td>\n      <td>1272.25</td>\n      <td>11/1/2019</td>\n      <td>286.81</td>\n    </tr>\n    <tr>\n      <th>4</th>\n      <td>11/4/2019</td>\n      <td>1804.66</td>\n      <td>11/4/2019</td>\n      <td>64.38</td>\n      <td>11/4/19</td>\n      <td>194.72</td>\n      <td>11/4/2019</td>\n      <td>1289.61</td>\n      <td>11/4/2019</td>\n      <td>292.86</td>\n    </tr>\n  </tbody>\n</table>\n</div>"
     },
     "metadata": {},
     "execution_count": 25
    }
   ],
   "source": [
    "fang_df = pd.concat([amazon_df, apple_df, facebook_df, google_df, netflix_df], axis= \"columns\", join=\"inner\")\n",
    "\n",
    "fang_df.head()"
   ]
  },
  {
   "cell_type": "code",
   "execution_count": 24,
   "metadata": {},
   "outputs": [
    {
     "output_type": "execute_result",
     "data": {
      "text/plain": "         Date  BITCOIN        Date     GOLD        Date    sp500\n0  2019-10-29   9411.3  2020-10-29  1868.65  2020-10-29  3310.11\n1  2019-10-30   9157.9  2020-10-28  1879.20  2020-10-28  3271.03\n2  2019-10-31   9152.6  2020-10-27  1911.90  2020-10-27  3390.68\n3  2019-11-01   9230.1  2020-10-26  1905.70  2020-10-26  3400.97\n4  2019-11-02   9300.6  2020-10-23  1905.20  2020-10-23  3465.39",
      "text/html": "<div>\n<style scoped>\n    .dataframe tbody tr th:only-of-type {\n        vertical-align: middle;\n    }\n\n    .dataframe tbody tr th {\n        vertical-align: top;\n    }\n\n    .dataframe thead th {\n        text-align: right;\n    }\n</style>\n<table border=\"1\" class=\"dataframe\">\n  <thead>\n    <tr style=\"text-align: right;\">\n      <th></th>\n      <th>Date</th>\n      <th>BITCOIN</th>\n      <th>Date</th>\n      <th>GOLD</th>\n      <th>Date</th>\n      <th>sp500</th>\n    </tr>\n  </thead>\n  <tbody>\n    <tr>\n      <th>0</th>\n      <td>2019-10-29</td>\n      <td>9411.3</td>\n      <td>2020-10-29</td>\n      <td>1868.65</td>\n      <td>2020-10-29</td>\n      <td>3310.11</td>\n    </tr>\n    <tr>\n      <th>1</th>\n      <td>2019-10-30</td>\n      <td>9157.9</td>\n      <td>2020-10-28</td>\n      <td>1879.20</td>\n      <td>2020-10-28</td>\n      <td>3271.03</td>\n    </tr>\n    <tr>\n      <th>2</th>\n      <td>2019-10-31</td>\n      <td>9152.6</td>\n      <td>2020-10-27</td>\n      <td>1911.90</td>\n      <td>2020-10-27</td>\n      <td>3390.68</td>\n    </tr>\n    <tr>\n      <th>3</th>\n      <td>2019-11-01</td>\n      <td>9230.1</td>\n      <td>2020-10-26</td>\n      <td>1905.70</td>\n      <td>2020-10-26</td>\n      <td>3400.97</td>\n    </tr>\n    <tr>\n      <th>4</th>\n      <td>2019-11-02</td>\n      <td>9300.6</td>\n      <td>2020-10-23</td>\n      <td>1905.20</td>\n      <td>2020-10-23</td>\n      <td>3465.39</td>\n    </tr>\n  </tbody>\n</table>\n</div>"
     },
     "metadata": {},
     "execution_count": 24
    }
   ],
   "source": [
    "huge_df = pd.concat([bitcoin_df, gold_df, sp500_df], axis=\"columns\", join=\"inner\")\n",
    "\n",
    "huge_df.head()"
   ]
  },
  {
   "cell_type": "code",
   "execution_count": null,
   "metadata": {},
   "outputs": [],
   "source": []
  }
 ]
}