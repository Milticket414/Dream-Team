{
 "metadata": {
  "language_info": {
   "codemirror_mode": {
    "name": "ipython",
    "version": 3
   },
   "file_extension": ".py",
   "mimetype": "text/x-python",
   "name": "python",
   "nbconvert_exporter": "python",
   "pygments_lexer": "ipython3",
   "version": "3.8.3-final"
  },
  "orig_nbformat": 2,
  "kernelspec": {
   "name": "python_defaultSpec_1604157410926",
   "display_name": "Python 3.8.3 64-bit ('base': conda)"
  }
 },
 "nbformat": 4,
 "nbformat_minor": 2,
 "cells": [
  {
   "cell_type": "code",
   "execution_count": 1,
   "metadata": {},
   "outputs": [],
   "source": [
    "import os\n",
    "import pandas as pd\n",
    "from pathlib import Path\n",
    "import numpy as np\n",
    "import datetime as dt\n",
    "import csv\n",
    "%matplotlib inline"
   ]
  },
  {
   "cell_type": "code",
   "execution_count": 26,
   "metadata": {},
   "outputs": [],
   "source": [
    "bitcoin_path = (\"../Data/clean/Bitcoin.csv\")\n",
    "gold_path = (\"../Data/clean/Gold.csv\")\n",
    "#van_path = (\"../Data/raw_csv/VNQ.csv\")\n",
    "sp500_path = (\"../Data/clean/sp500.csv\")\n",
    "fang_path = (\"../Data/clean/fang.csv\")"
   ]
  },
  {
   "cell_type": "code",
   "execution_count": 27,
   "metadata": {},
   "outputs": [],
   "source": [
    "bitcoin_df = pd.read_csv(bitcoin_path)\n",
    "gold_df = pd.read_csv(gold_path)\n",
    "## van_df = pd.read_csv(van_path)\n",
    "sp500_df = pd.read_csv(sp500_path)\n",
    "fang_df = pd.read_csv(fang_path)"
   ]
  },
  {
   "cell_type": "code",
   "execution_count": 29,
   "metadata": {},
   "outputs": [
    {
     "output_type": "execute_result",
     "data": {
      "text/plain": "         Date  BITCOIN        Date     GOLD        Date    sp500        Date  \\\n0  2019-10-29   9411.3  2020-10-29  1868.65  2020-10-29  3310.11  2019-10-29   \n1  2019-10-30   9157.9  2020-10-28  1879.20  2020-10-28  3271.03  2019-10-30   \n2  2019-10-31   9152.6  2020-10-27  1911.90  2020-10-27  3390.68  2019-10-31   \n3  2019-11-01   9230.1  2020-10-26  1905.70  2020-10-26  3400.97  2019-11-01   \n4  2019-11-02   9300.6  2020-10-23  1905.20  2020-10-23  3465.39  2019-11-04   \n\n       FB   AAPL     AMZN    NFLX    GOOGL  \n0  189.31  60.82  1762.71  281.21  1260.66  \n1  188.25  60.82  1779.99  291.45  1260.70  \n2  191.65  62.19  1776.66  287.41  1258.80  \n3  193.62  63.96  1791.44  286.81  1272.25  \n4  194.72  64.38  1804.66  292.86  1289.61  ",
      "text/html": "<div>\n<style scoped>\n    .dataframe tbody tr th:only-of-type {\n        vertical-align: middle;\n    }\n\n    .dataframe tbody tr th {\n        vertical-align: top;\n    }\n\n    .dataframe thead th {\n        text-align: right;\n    }\n</style>\n<table border=\"1\" class=\"dataframe\">\n  <thead>\n    <tr style=\"text-align: right;\">\n      <th></th>\n      <th>Date</th>\n      <th>BITCOIN</th>\n      <th>Date</th>\n      <th>GOLD</th>\n      <th>Date</th>\n      <th>sp500</th>\n      <th>Date</th>\n      <th>FB</th>\n      <th>AAPL</th>\n      <th>AMZN</th>\n      <th>NFLX</th>\n      <th>GOOGL</th>\n    </tr>\n  </thead>\n  <tbody>\n    <tr>\n      <th>0</th>\n      <td>2019-10-29</td>\n      <td>9411.3</td>\n      <td>2020-10-29</td>\n      <td>1868.65</td>\n      <td>2020-10-29</td>\n      <td>3310.11</td>\n      <td>2019-10-29</td>\n      <td>189.31</td>\n      <td>60.82</td>\n      <td>1762.71</td>\n      <td>281.21</td>\n      <td>1260.66</td>\n    </tr>\n    <tr>\n      <th>1</th>\n      <td>2019-10-30</td>\n      <td>9157.9</td>\n      <td>2020-10-28</td>\n      <td>1879.20</td>\n      <td>2020-10-28</td>\n      <td>3271.03</td>\n      <td>2019-10-30</td>\n      <td>188.25</td>\n      <td>60.82</td>\n      <td>1779.99</td>\n      <td>291.45</td>\n      <td>1260.70</td>\n    </tr>\n    <tr>\n      <th>2</th>\n      <td>2019-10-31</td>\n      <td>9152.6</td>\n      <td>2020-10-27</td>\n      <td>1911.90</td>\n      <td>2020-10-27</td>\n      <td>3390.68</td>\n      <td>2019-10-31</td>\n      <td>191.65</td>\n      <td>62.19</td>\n      <td>1776.66</td>\n      <td>287.41</td>\n      <td>1258.80</td>\n    </tr>\n    <tr>\n      <th>3</th>\n      <td>2019-11-01</td>\n      <td>9230.1</td>\n      <td>2020-10-26</td>\n      <td>1905.70</td>\n      <td>2020-10-26</td>\n      <td>3400.97</td>\n      <td>2019-11-01</td>\n      <td>193.62</td>\n      <td>63.96</td>\n      <td>1791.44</td>\n      <td>286.81</td>\n      <td>1272.25</td>\n    </tr>\n    <tr>\n      <th>4</th>\n      <td>2019-11-02</td>\n      <td>9300.6</td>\n      <td>2020-10-23</td>\n      <td>1905.20</td>\n      <td>2020-10-23</td>\n      <td>3465.39</td>\n      <td>2019-11-04</td>\n      <td>194.72</td>\n      <td>64.38</td>\n      <td>1804.66</td>\n      <td>292.86</td>\n      <td>1289.61</td>\n    </tr>\n  </tbody>\n</table>\n</div>"
     },
     "metadata": {},
     "execution_count": 29
    }
   ],
   "source": [
    "universal_df = pd.concat([bitcoin_df, gold_df, sp500_df, fang_df], axis=\"columns\", join=\"inner\")\n",
    "\n",
    "universal_df.head()"
   ]
  },
  {
   "cell_type": "code",
   "execution_count": null,
   "metadata": {},
   "outputs": [],
   "source": []
  }
 ]
}