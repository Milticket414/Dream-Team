{
 "metadata": {
  "language_info": {
   "codemirror_mode": {
    "name": "ipython",
    "version": 3
   },
   "file_extension": ".py",
   "mimetype": "text/x-python",
   "name": "python",
   "nbconvert_exporter": "python",
   "pygments_lexer": "ipython3",
   "version": "3.8.3-final"
  },
  "orig_nbformat": 2,
  "kernelspec": {
   "name": "python_defaultSpec_1604157410926",
   "display_name": "Python 3.8.3 64-bit ('base': conda)"
  }
 },
 "nbformat": 4,
 "nbformat_minor": 2,
 "cells": [
  {
   "cell_type": "code",
   "execution_count": 99,
   "metadata": {},
   "outputs": [],
   "source": [
    "import os\n",
    "import pandas as pd\n",
    "from pathlib import Path\n",
    "import numpy as np\n",
    "import datetime as dt\n",
    "import csv\n",
    "%matplotlib inline"
   ]
  },
  {
   "cell_type": "code",
   "execution_count": 100,
   "metadata": {},
   "outputs": [],
   "source": [
    "bitcoin_path = (\"../Data/clean/Bitcoin.csv\")\n",
    "gold_path = (\"../Data/clean/Gold.csv\")\n",
    "vnq_path = (\"../Data/clean/VNQ.csv\")\n",
    "sp500_path = (\"../Data/clean/sp500.csv\")\n",
    "fang_path = (\"../Data/clean/fang.csv\")"
   ]
  },
  {
   "cell_type": "code",
   "execution_count": 101,
   "metadata": {},
   "outputs": [],
   "source": [
    "bitcoin_df = pd.read_csv(bitcoin_path)\n",
    "gold_df = pd.read_csv(gold_path)\n",
    "vnq_df = pd.read_csv(vnq_path)\n",
    "sp500_df = pd.read_csv(sp500_path)\n",
    "fang_df = pd.read_csv(fang_path)"
   ]
  },
  {
   "cell_type": "code",
   "execution_count": 102,
   "metadata": {},
   "outputs": [],
   "source": [
    "#universal_df = pd.concat([bitcoin_df, gold_df, sp500_df, fang_df, vnq_df], axis=\"columns\", join=\"inner\")\n",
    "\n",
    "#universal_df.head()"
   ]
  },
  {
   "cell_type": "code",
   "execution_count": 106,
   "metadata": {},
   "outputs": [
    {
     "output_type": "execute_result",
     "data": {
      "text/plain": "           Date  BITCOIN     GOLD    sp500      FB    AAPL     AMZN    NFLX  \\\n0    2019-10-29   9411.3  1868.65  3310.11  189.31   60.82  1762.71  281.21   \n1    2019-10-30   9157.9  1879.20  3271.03  188.25   60.82  1779.99  291.45   \n2    2019-10-31   9152.6  1911.90  3390.68  191.65   62.19  1776.66  287.41   \n3    2019-11-01   9230.1  1905.70  3400.97  193.62   63.96  1791.44  286.81   \n4    2019-11-02   9300.6  1905.20  3465.39  194.72   64.38  1804.66  292.86   \n..          ...      ...      ...      ...     ...     ...      ...     ...   \n248  2020-07-03   9067.1  1494.40  3074.62  278.12  115.75  3176.40  485.23   \n249  2020-07-04   9134.4  1494.00  3078.27  284.79  115.04  3204.40  488.28   \n250  2020-07-05   9081.0  1504.50  3066.91  277.11  115.05  3207.04  488.24   \n251  2020-07-06   9339.0  1504.80  3037.56  283.29  116.60  3286.33  488.93   \n252  2020-07-07   9256.0  1502.40  3046.77  267.67  111.20  3162.78  486.24   \n\n       GOOGL    VNQ  \n0    1260.66  94.13  \n1    1260.70  94.47  \n2    1258.80  94.30  \n3    1272.25  94.28  \n4    1289.61  93.62  \n..       ...    ...  \n248  1606.66  77.70  \n249  1632.98  77.70  \n250  1584.29  77.70  \n251  1598.88  79.29  \n252  1510.80  78.72  \n\n[253 rows x 10 columns]",
      "text/html": "<div>\n<style scoped>\n    .dataframe tbody tr th:only-of-type {\n        vertical-align: middle;\n    }\n\n    .dataframe tbody tr th {\n        vertical-align: top;\n    }\n\n    .dataframe thead th {\n        text-align: right;\n    }\n</style>\n<table border=\"1\" class=\"dataframe\">\n  <thead>\n    <tr style=\"text-align: right;\">\n      <th></th>\n      <th>Date</th>\n      <th>BITCOIN</th>\n      <th>GOLD</th>\n      <th>sp500</th>\n      <th>FB</th>\n      <th>AAPL</th>\n      <th>AMZN</th>\n      <th>NFLX</th>\n      <th>GOOGL</th>\n      <th>VNQ</th>\n    </tr>\n  </thead>\n  <tbody>\n    <tr>\n      <th>0</th>\n      <td>2019-10-29</td>\n      <td>9411.3</td>\n      <td>1868.65</td>\n      <td>3310.11</td>\n      <td>189.31</td>\n      <td>60.82</td>\n      <td>1762.71</td>\n      <td>281.21</td>\n      <td>1260.66</td>\n      <td>94.13</td>\n    </tr>\n    <tr>\n      <th>1</th>\n      <td>2019-10-30</td>\n      <td>9157.9</td>\n      <td>1879.20</td>\n      <td>3271.03</td>\n      <td>188.25</td>\n      <td>60.82</td>\n      <td>1779.99</td>\n      <td>291.45</td>\n      <td>1260.70</td>\n      <td>94.47</td>\n    </tr>\n    <tr>\n      <th>2</th>\n      <td>2019-10-31</td>\n      <td>9152.6</td>\n      <td>1911.90</td>\n      <td>3390.68</td>\n      <td>191.65</td>\n      <td>62.19</td>\n      <td>1776.66</td>\n      <td>287.41</td>\n      <td>1258.80</td>\n      <td>94.30</td>\n    </tr>\n    <tr>\n      <th>3</th>\n      <td>2019-11-01</td>\n      <td>9230.1</td>\n      <td>1905.70</td>\n      <td>3400.97</td>\n      <td>193.62</td>\n      <td>63.96</td>\n      <td>1791.44</td>\n      <td>286.81</td>\n      <td>1272.25</td>\n      <td>94.28</td>\n    </tr>\n    <tr>\n      <th>4</th>\n      <td>2019-11-02</td>\n      <td>9300.6</td>\n      <td>1905.20</td>\n      <td>3465.39</td>\n      <td>194.72</td>\n      <td>64.38</td>\n      <td>1804.66</td>\n      <td>292.86</td>\n      <td>1289.61</td>\n      <td>93.62</td>\n    </tr>\n    <tr>\n      <th>...</th>\n      <td>...</td>\n      <td>...</td>\n      <td>...</td>\n      <td>...</td>\n      <td>...</td>\n      <td>...</td>\n      <td>...</td>\n      <td>...</td>\n      <td>...</td>\n      <td>...</td>\n    </tr>\n    <tr>\n      <th>248</th>\n      <td>2020-07-03</td>\n      <td>9067.1</td>\n      <td>1494.40</td>\n      <td>3074.62</td>\n      <td>278.12</td>\n      <td>115.75</td>\n      <td>3176.40</td>\n      <td>485.23</td>\n      <td>1606.66</td>\n      <td>77.70</td>\n    </tr>\n    <tr>\n      <th>249</th>\n      <td>2020-07-04</td>\n      <td>9134.4</td>\n      <td>1494.00</td>\n      <td>3078.27</td>\n      <td>284.79</td>\n      <td>115.04</td>\n      <td>3204.40</td>\n      <td>488.28</td>\n      <td>1632.98</td>\n      <td>77.70</td>\n    </tr>\n    <tr>\n      <th>250</th>\n      <td>2020-07-05</td>\n      <td>9081.0</td>\n      <td>1504.50</td>\n      <td>3066.91</td>\n      <td>277.11</td>\n      <td>115.05</td>\n      <td>3207.04</td>\n      <td>488.24</td>\n      <td>1584.29</td>\n      <td>77.70</td>\n    </tr>\n    <tr>\n      <th>251</th>\n      <td>2020-07-06</td>\n      <td>9339.0</td>\n      <td>1504.80</td>\n      <td>3037.56</td>\n      <td>283.29</td>\n      <td>116.60</td>\n      <td>3286.33</td>\n      <td>488.93</td>\n      <td>1598.88</td>\n      <td>79.29</td>\n    </tr>\n    <tr>\n      <th>252</th>\n      <td>2020-07-07</td>\n      <td>9256.0</td>\n      <td>1502.40</td>\n      <td>3046.77</td>\n      <td>267.67</td>\n      <td>111.20</td>\n      <td>3162.78</td>\n      <td>486.24</td>\n      <td>1510.80</td>\n      <td>78.72</td>\n    </tr>\n  </tbody>\n</table>\n<p>253 rows × 10 columns</p>\n</div>"
     },
     "metadata": {},
     "execution_count": 106
    }
   ],
   "source": [
    "universal_df = pd.concat([bitcoin_df, gold_df, sp500_df, fang_df, vnq_df], axis=1, join= \"inner\")\n",
    "\n",
    "Cols = list(universal_df.columns)\n",
    "\n",
    "for i, item in enumerate(universal_df.columns):\n",
    "    if item in universal_df.columns[:i]:Cols[i] = \"toDROP\"\n",
    "\n",
    "universal_df.columns = Cols\n",
    "\n",
    "joined_dataframes = universal_df.drop(\"toDROP\", 1)\n",
    "\n",
    "joined_dataframes"
   ]
  },
  {
   "cell_type": "code",
   "execution_count": null,
   "metadata": {},
   "outputs": [],
   "source": []
  }
 ]
}