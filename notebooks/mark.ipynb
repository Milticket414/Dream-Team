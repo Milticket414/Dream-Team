{
 "metadata": {
  "language_info": {
   "codemirror_mode": {
    "name": "ipython",
    "version": 3
   },
   "file_extension": ".py",
   "mimetype": "text/x-python",
   "name": "python",
   "nbconvert_exporter": "python",
   "pygments_lexer": "ipython3",
   "version": "3.8.3-final"
  },
  "orig_nbformat": 2,
  "kernelspec": {
   "name": "python_defaultSpec_1604157410926",
   "display_name": "Python 3.8.3 64-bit ('base': conda)"
  }
 },
 "nbformat": 4,
 "nbformat_minor": 2,
 "cells": [
  {
   "cell_type": "code",
   "execution_count": 1,
   "metadata": {},
   "outputs": [],
   "source": [
    "import os\n",
    "import pandas as pd\n",
    "from pathlib import Path\n",
    "import numpy as np\n",
    "import datetime as dt\n",
    "import csv\n",
    "%matplotlib inline"
   ]
  },
  {
   "cell_type": "code",
   "execution_count": 15,
   "metadata": {},
   "outputs": [],
   "source": [
    "bitcoin_path = (\"../Data/clean/Bitcoin.csv\")\n",
    "gold_path = (\"../Data/clean/Gold.csv\")\n",
    "#van_path = (\"../Data/raw_csv/VNQ.csv\")\n",
    "sp500_path = (\"../Data/clean/sp500.csv\")\n"
   ]
  },
  {
   "cell_type": "code",
   "execution_count": 16,
   "metadata": {},
   "outputs": [],
   "source": [
    "bitcoin_df = pd.read_csv(bitcoin_path)\n",
    "gold_df = pd.read_csv(gold_path)\n",
    "## van_df = pd.read_csv(van_path)\n",
    "sp500_df = pd.read_csv(sp500_path)"
   ]
  },
  {
   "cell_type": "code",
   "execution_count": 17,
   "metadata": {},
   "outputs": [
    {
     "output_type": "execute_result",
     "data": {
      "text/plain": "           Date  BITCOIN\n0    2019-10-29   9411.3\n1    2019-10-30   9157.9\n2    2019-10-31   9152.6\n3    2019-11-01   9230.1\n4    2019-11-02   9300.6\n..          ...      ...\n362  2020-10-25  13032.2\n363  2020-10-26  13061.6\n364  2020-10-27  13657.8\n365  2020-10-28  13278.9\n366  2020-10-29  13461.4\n\n[367 rows x 2 columns]",
      "text/html": "<div>\n<style scoped>\n    .dataframe tbody tr th:only-of-type {\n        vertical-align: middle;\n    }\n\n    .dataframe tbody tr th {\n        vertical-align: top;\n    }\n\n    .dataframe thead th {\n        text-align: right;\n    }\n</style>\n<table border=\"1\" class=\"dataframe\">\n  <thead>\n    <tr style=\"text-align: right;\">\n      <th></th>\n      <th>Date</th>\n      <th>BITCOIN</th>\n    </tr>\n  </thead>\n  <tbody>\n    <tr>\n      <th>0</th>\n      <td>2019-10-29</td>\n      <td>9411.3</td>\n    </tr>\n    <tr>\n      <th>1</th>\n      <td>2019-10-30</td>\n      <td>9157.9</td>\n    </tr>\n    <tr>\n      <th>2</th>\n      <td>2019-10-31</td>\n      <td>9152.6</td>\n    </tr>\n    <tr>\n      <th>3</th>\n      <td>2019-11-01</td>\n      <td>9230.1</td>\n    </tr>\n    <tr>\n      <th>4</th>\n      <td>2019-11-02</td>\n      <td>9300.6</td>\n    </tr>\n    <tr>\n      <th>...</th>\n      <td>...</td>\n      <td>...</td>\n    </tr>\n    <tr>\n      <th>362</th>\n      <td>2020-10-25</td>\n      <td>13032.2</td>\n    </tr>\n    <tr>\n      <th>363</th>\n      <td>2020-10-26</td>\n      <td>13061.6</td>\n    </tr>\n    <tr>\n      <th>364</th>\n      <td>2020-10-27</td>\n      <td>13657.8</td>\n    </tr>\n    <tr>\n      <th>365</th>\n      <td>2020-10-28</td>\n      <td>13278.9</td>\n    </tr>\n    <tr>\n      <th>366</th>\n      <td>2020-10-29</td>\n      <td>13461.4</td>\n    </tr>\n  </tbody>\n</table>\n<p>367 rows × 2 columns</p>\n</div>"
     },
     "metadata": {},
     "execution_count": 17
    }
   ],
   "source": [
    "bitcoin_df"
   ]
  },
  {
   "cell_type": "code",
   "execution_count": null,
   "metadata": {},
   "outputs": [],
   "source": []
  }
 ]
}