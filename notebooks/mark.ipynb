{
 "metadata": {
  "language_info": {
   "codemirror_mode": {
    "name": "ipython",
    "version": 3
   },
   "file_extension": ".py",
   "mimetype": "text/x-python",
   "name": "python",
   "nbconvert_exporter": "python",
   "pygments_lexer": "ipython3",
   "version": "3.8.3-final"
  },
  "orig_nbformat": 2,
  "kernelspec": {
   "name": "python_defaultSpec_1604157410926",
   "display_name": "Python 3.8.3 64-bit ('base': conda)"
  }
 },
 "nbformat": 4,
 "nbformat_minor": 2,
 "cells": [
  {
   "cell_type": "code",
   "execution_count": 118,
   "metadata": {},
   "outputs": [],
   "source": [
    "import os\n",
    "import pandas as pd\n",
    "from pathlib import Path\n",
    "import numpy as np\n",
    "import datetime as dt\n",
    "import csv\n",
    "%matplotlib inline"
   ]
  },
  {
   "cell_type": "code",
   "execution_count": 119,
   "metadata": {},
   "outputs": [],
   "source": [
    "# bringing in data\n",
    "bitcoin_path = (\"../Data/clean/Bitcoin.csv\")\n",
    "gold_path = (\"../Data/clean/Gold.csv\")\n",
    "vnq_path = (\"../Data/clean/VNQ.csv\")\n",
    "sp500_path = (\"../Data/clean/sp500.csv\")\n",
    "fang_path = (\"../Data/clean/fang.csv\")"
   ]
  },
  {
   "cell_type": "code",
   "execution_count": 120,
   "metadata": {},
   "outputs": [],
   "source": [
    "# reading in data\n",
    "bitcoin_df = pd.read_csv(bitcoin_path)\n",
    "gold_df = pd.read_csv(gold_path)\n",
    "vnq_df = pd.read_csv(vnq_path)\n",
    "sp500_df = pd.read_csv(sp500_path)\n",
    "fang_df = pd.read_csv(fang_path)"
   ]
  },
  {
   "cell_type": "code",
   "execution_count": 121,
   "metadata": {},
   "outputs": [],
   "source": [
    "# first try for concatenation. \n",
    "#universal_df = pd.concat([bitcoin_df, gold_df, sp500_df, fang_df, vnq_df], axis=\"columns\", join=\"inner\")\n",
    "\n",
    "#universal_df.head()"
   ]
  },
  {
   "cell_type": "code",
   "execution_count": 132,
   "metadata": {},
   "outputs": [
    {
     "output_type": "execute_result",
     "data": {
      "text/plain": "            BITCOIN     GOLD    sp500    VNQ\nDate                                        \n2019-10-29   9411.3  1868.65  3310.11  94.13\n2019-10-30   9157.9  1879.20  3271.03  94.47\n2019-10-31   9152.6  1911.90  3390.68  94.30\n2019-11-01   9230.1  1905.70  3400.97  94.28\n2019-11-02   9300.6  1905.20  3465.39  93.62",
      "text/html": "<div>\n<style scoped>\n    .dataframe tbody tr th:only-of-type {\n        vertical-align: middle;\n    }\n\n    .dataframe tbody tr th {\n        vertical-align: top;\n    }\n\n    .dataframe thead th {\n        text-align: right;\n    }\n</style>\n<table border=\"1\" class=\"dataframe\">\n  <thead>\n    <tr style=\"text-align: right;\">\n      <th></th>\n      <th>BITCOIN</th>\n      <th>GOLD</th>\n      <th>sp500</th>\n      <th>VNQ</th>\n    </tr>\n    <tr>\n      <th>Date</th>\n      <th></th>\n      <th></th>\n      <th></th>\n      <th></th>\n    </tr>\n  </thead>\n  <tbody>\n    <tr>\n      <th>2019-10-29</th>\n      <td>9411.3</td>\n      <td>1868.65</td>\n      <td>3310.11</td>\n      <td>94.13</td>\n    </tr>\n    <tr>\n      <th>2019-10-30</th>\n      <td>9157.9</td>\n      <td>1879.20</td>\n      <td>3271.03</td>\n      <td>94.47</td>\n    </tr>\n    <tr>\n      <th>2019-10-31</th>\n      <td>9152.6</td>\n      <td>1911.90</td>\n      <td>3390.68</td>\n      <td>94.30</td>\n    </tr>\n    <tr>\n      <th>2019-11-01</th>\n      <td>9230.1</td>\n      <td>1905.70</td>\n      <td>3400.97</td>\n      <td>94.28</td>\n    </tr>\n    <tr>\n      <th>2019-11-02</th>\n      <td>9300.6</td>\n      <td>1905.20</td>\n      <td>3465.39</td>\n      <td>93.62</td>\n    </tr>\n  </tbody>\n</table>\n</div>"
     },
     "metadata": {},
     "execution_count": 132
    }
   ],
   "source": [
    "universal_df = pd.concat([bitcoin_df, gold_df, sp500_df, vnq_df], axis=1, join= \"inner\")\n",
    "\n",
    "Cols = list(universal_df.columns)\n",
    "\n",
    "for i, item in enumerate(universal_df.columns):\n",
    "    if item in universal_df.columns[:i]:Cols[i] = \"toDROP\"\n",
    "\n",
    "universal_df.columns = Cols\n",
    "\n",
    "joined_dataframes = universal_df.drop(\"toDROP\", 1).set_index(\"Date\")\n",
    "\n",
    "joined_dataframes.head()"
   ]
  },
  {
   "cell_type": "code",
   "execution_count": 135,
   "metadata": {
    "tags": []
   },
   "outputs": [
    {
     "output_type": "execute_result",
     "data": {
      "text/plain": "             BITCOIN      GOLD     sp500       VNQ\nDate                                              \n2019-10-30 -0.026925  0.005646 -0.011806  0.003612\n2019-10-31 -0.000579  0.017401  0.036579 -0.001800\n2019-11-01  0.008468 -0.003243  0.003035 -0.000212\n2019-11-02  0.007638 -0.000262  0.018942 -0.007000\n2019-11-03 -0.010999 -0.000315 -0.003434 -0.016984\n...              ...       ...       ...       ...\n2020-07-28 -0.010369  0.003757  0.018230  0.006009\n2020-07-29  0.018096  0.003152  0.012411 -0.014311\n2020-07-30 -0.000873 -0.002880 -0.005022 -0.016033\n2020-07-31  0.021377 -0.006761  0.005345 -0.023865\n2020-08-01  0.041444  0.009253  0.002435  0.013407\n\n[277 rows x 4 columns]",
      "text/html": "<div>\n<style scoped>\n    .dataframe tbody tr th:only-of-type {\n        vertical-align: middle;\n    }\n\n    .dataframe tbody tr th {\n        vertical-align: top;\n    }\n\n    .dataframe thead th {\n        text-align: right;\n    }\n</style>\n<table border=\"1\" class=\"dataframe\">\n  <thead>\n    <tr style=\"text-align: right;\">\n      <th></th>\n      <th>BITCOIN</th>\n      <th>GOLD</th>\n      <th>sp500</th>\n      <th>VNQ</th>\n    </tr>\n    <tr>\n      <th>Date</th>\n      <th></th>\n      <th></th>\n      <th></th>\n      <th></th>\n    </tr>\n  </thead>\n  <tbody>\n    <tr>\n      <th>2019-10-30</th>\n      <td>-0.026925</td>\n      <td>0.005646</td>\n      <td>-0.011806</td>\n      <td>0.003612</td>\n    </tr>\n    <tr>\n      <th>2019-10-31</th>\n      <td>-0.000579</td>\n      <td>0.017401</td>\n      <td>0.036579</td>\n      <td>-0.001800</td>\n    </tr>\n    <tr>\n      <th>2019-11-01</th>\n      <td>0.008468</td>\n      <td>-0.003243</td>\n      <td>0.003035</td>\n      <td>-0.000212</td>\n    </tr>\n    <tr>\n      <th>2019-11-02</th>\n      <td>0.007638</td>\n      <td>-0.000262</td>\n      <td>0.018942</td>\n      <td>-0.007000</td>\n    </tr>\n    <tr>\n      <th>2019-11-03</th>\n      <td>-0.010999</td>\n      <td>-0.000315</td>\n      <td>-0.003434</td>\n      <td>-0.016984</td>\n    </tr>\n    <tr>\n      <th>...</th>\n      <td>...</td>\n      <td>...</td>\n      <td>...</td>\n      <td>...</td>\n    </tr>\n    <tr>\n      <th>2020-07-28</th>\n      <td>-0.010369</td>\n      <td>0.003757</td>\n      <td>0.018230</td>\n      <td>0.006009</td>\n    </tr>\n    <tr>\n      <th>2020-07-29</th>\n      <td>0.018096</td>\n      <td>0.003152</td>\n      <td>0.012411</td>\n      <td>-0.014311</td>\n    </tr>\n    <tr>\n      <th>2020-07-30</th>\n      <td>-0.000873</td>\n      <td>-0.002880</td>\n      <td>-0.005022</td>\n      <td>-0.016033</td>\n    </tr>\n    <tr>\n      <th>2020-07-31</th>\n      <td>0.021377</td>\n      <td>-0.006761</td>\n      <td>0.005345</td>\n      <td>-0.023865</td>\n    </tr>\n    <tr>\n      <th>2020-08-01</th>\n      <td>0.041444</td>\n      <td>0.009253</td>\n      <td>0.002435</td>\n      <td>0.013407</td>\n    </tr>\n  </tbody>\n</table>\n<p>277 rows × 4 columns</p>\n</div>"
     },
     "metadata": {},
     "execution_count": 135
    }
   ],
   "source": [
    "pct_change_no_fang = joined_dataframes.pct_change().dropna()\n",
    "\n",
    "pct_change_no_fang"
   ]
  },
  {
   "cell_type": "code",
   "execution_count": null,
   "metadata": {},
   "outputs": [],
   "source": [
    "universal_pct_change = pd.concat([pct_change_no_fang, ])"
   ]
  }
 ]
}