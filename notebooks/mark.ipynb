{
 "metadata": {
  "language_info": {
   "codemirror_mode": {
    "name": "ipython",
    "version": 3
   },
   "file_extension": ".py",
   "mimetype": "text/x-python",
   "name": "python",
   "nbconvert_exporter": "python",
   "pygments_lexer": "ipython3",
   "version": "3.8.3-final"
  },
  "orig_nbformat": 2,
  "kernelspec": {
   "name": "python_defaultSpec_1604157410926",
   "display_name": "Python 3.8.3 64-bit ('base': conda)"
  }
 },
 "nbformat": 4,
 "nbformat_minor": 2,
 "cells": [
  {
   "cell_type": "code",
   "execution_count": 141,
   "metadata": {},
   "outputs": [],
   "source": [
    "import os\n",
    "import pandas as pd\n",
    "from pathlib import Path\n",
    "import numpy as np\n",
    "import datetime as dt\n",
    "import csv\n",
    "%matplotlib inline"
   ]
  },
  {
   "cell_type": "code",
   "execution_count": 142,
   "metadata": {},
   "outputs": [],
   "source": [
    "# bringing in data\n",
    "bitcoin_path = (\"../Data/clean/Bitcoin.csv\")\n",
    "gold_path = (\"../Data/clean/Gold.csv\")\n",
    "vnq_path = (\"../Data/clean/VNQ.csv\")\n",
    "sp500_path = (\"../Data/clean/sp500.csv\")\n",
    "fang_path = (\"../Data/clean/FAANG.csv\")"
   ]
  },
  {
   "cell_type": "code",
   "execution_count": 143,
   "metadata": {},
   "outputs": [],
   "source": [
    "# reading in data\n",
    "bitcoin_df = pd.read_csv(bitcoin_path)\n",
    "gold_df = pd.read_csv(gold_path)\n",
    "vnq_df = pd.read_csv(vnq_path)\n",
    "sp500_df = pd.read_csv(sp500_path)\n",
    "fang_df = pd.read_csv(fang_path)"
   ]
  },
  {
   "cell_type": "code",
   "execution_count": 144,
   "metadata": {},
   "outputs": [],
   "source": [
    "# first try for concatenation. \n",
    "#universal_df = pd.concat([bitcoin_df, gold_df, sp500_df, fang_df, vnq_df], axis=\"columns\", join=\"inner\")\n",
    "\n",
    "#universal_df.head()"
   ]
  },
  {
   "cell_type": "code",
   "execution_count": 187,
   "metadata": {},
   "outputs": [
    {
     "output_type": "execute_result",
     "data": {
      "text/plain": "               GOLD    sp500    VNQ\nDate                               \n2020-10-29  1868.65  3310.11  94.13\n2020-10-28  1879.20  3271.03  94.47\n2020-10-27  1911.90  3390.68  94.30\n2020-10-26  1905.70  3400.97  94.28\n2020-10-23  1905.20  3465.39  93.62\n...             ...      ...    ...\n2019-10-18  1523.00  2940.25  80.36\n2019-10-17  1527.80  2976.74  79.21\n2019-10-16  1523.40  2961.79  77.94\n2019-10-15  1513.10  2977.62  76.08\n2019-10-14  1527.10  2984.87  77.10\n\n[278 rows x 3 columns]",
      "text/html": "<div>\n<style scoped>\n    .dataframe tbody tr th:only-of-type {\n        vertical-align: middle;\n    }\n\n    .dataframe tbody tr th {\n        vertical-align: top;\n    }\n\n    .dataframe thead th {\n        text-align: right;\n    }\n</style>\n<table border=\"1\" class=\"dataframe\">\n  <thead>\n    <tr style=\"text-align: right;\">\n      <th></th>\n      <th>GOLD</th>\n      <th>sp500</th>\n      <th>VNQ</th>\n    </tr>\n    <tr>\n      <th>Date</th>\n      <th></th>\n      <th></th>\n      <th></th>\n    </tr>\n  </thead>\n  <tbody>\n    <tr>\n      <th>2020-10-29</th>\n      <td>1868.65</td>\n      <td>3310.11</td>\n      <td>94.13</td>\n    </tr>\n    <tr>\n      <th>2020-10-28</th>\n      <td>1879.20</td>\n      <td>3271.03</td>\n      <td>94.47</td>\n    </tr>\n    <tr>\n      <th>2020-10-27</th>\n      <td>1911.90</td>\n      <td>3390.68</td>\n      <td>94.30</td>\n    </tr>\n    <tr>\n      <th>2020-10-26</th>\n      <td>1905.70</td>\n      <td>3400.97</td>\n      <td>94.28</td>\n    </tr>\n    <tr>\n      <th>2020-10-23</th>\n      <td>1905.20</td>\n      <td>3465.39</td>\n      <td>93.62</td>\n    </tr>\n    <tr>\n      <th>...</th>\n      <td>...</td>\n      <td>...</td>\n      <td>...</td>\n    </tr>\n    <tr>\n      <th>2019-10-18</th>\n      <td>1523.00</td>\n      <td>2940.25</td>\n      <td>80.36</td>\n    </tr>\n    <tr>\n      <th>2019-10-17</th>\n      <td>1527.80</td>\n      <td>2976.74</td>\n      <td>79.21</td>\n    </tr>\n    <tr>\n      <th>2019-10-16</th>\n      <td>1523.40</td>\n      <td>2961.79</td>\n      <td>77.94</td>\n    </tr>\n    <tr>\n      <th>2019-10-15</th>\n      <td>1513.10</td>\n      <td>2977.62</td>\n      <td>76.08</td>\n    </tr>\n    <tr>\n      <th>2019-10-14</th>\n      <td>1527.10</td>\n      <td>2984.87</td>\n      <td>77.10</td>\n    </tr>\n  </tbody>\n</table>\n<p>278 rows × 3 columns</p>\n</div>"
     },
     "metadata": {},
     "execution_count": 187
    }
   ],
   "source": [
    "# data that does not change on weekends\n",
    "\n",
    "no_weekend = pd.concat([gold_df, sp500_df, vnq_df], axis=1, join= \"inner\")\n",
    "\n",
    "Cols = list(no_weekend.columns)\n",
    "\n",
    "for i, item in enumerate(no_weekend.columns):\n",
    "    if item in no_weekend.columns[:i]:Cols[i] = \"toDROP\"\n",
    "\n",
    "no_weekend.columns = Cols\n",
    "\n",
    "joined_no_weekend = no_weekend.drop(\"toDROP\", 1).set_index(\"Date\").dropna()\n",
    "\n",
    "joined_no_weekend"
   ]
  },
  {
   "cell_type": "code",
   "execution_count": 161,
   "metadata": {},
   "outputs": [
    {
     "output_type": "execute_result",
     "data": {
      "text/plain": "           Date     FAANG\n0    2019-10-31  0.004508\n1    2019-11-01  0.011144\n2    2019-11-04  0.010840\n3    2019-11-05 -0.004088\n4    2019-11-06 -0.003077\n..          ...       ...\n246  2020-10-22 -0.002887\n247  2020-10-23  0.008706\n248  2020-10-26 -0.009420\n249  2020-10-27  0.014342\n250  2020-10-28 -0.038724\n\n[251 rows x 2 columns]",
      "text/html": "<div>\n<style scoped>\n    .dataframe tbody tr th:only-of-type {\n        vertical-align: middle;\n    }\n\n    .dataframe tbody tr th {\n        vertical-align: top;\n    }\n\n    .dataframe thead th {\n        text-align: right;\n    }\n</style>\n<table border=\"1\" class=\"dataframe\">\n  <thead>\n    <tr style=\"text-align: right;\">\n      <th></th>\n      <th>Date</th>\n      <th>FAANG</th>\n    </tr>\n  </thead>\n  <tbody>\n    <tr>\n      <th>0</th>\n      <td>2019-10-31</td>\n      <td>0.004508</td>\n    </tr>\n    <tr>\n      <th>1</th>\n      <td>2019-11-01</td>\n      <td>0.011144</td>\n    </tr>\n    <tr>\n      <th>2</th>\n      <td>2019-11-04</td>\n      <td>0.010840</td>\n    </tr>\n    <tr>\n      <th>3</th>\n      <td>2019-11-05</td>\n      <td>-0.004088</td>\n    </tr>\n    <tr>\n      <th>4</th>\n      <td>2019-11-06</td>\n      <td>-0.003077</td>\n    </tr>\n    <tr>\n      <th>...</th>\n      <td>...</td>\n      <td>...</td>\n    </tr>\n    <tr>\n      <th>246</th>\n      <td>2020-10-22</td>\n      <td>-0.002887</td>\n    </tr>\n    <tr>\n      <th>247</th>\n      <td>2020-10-23</td>\n      <td>0.008706</td>\n    </tr>\n    <tr>\n      <th>248</th>\n      <td>2020-10-26</td>\n      <td>-0.009420</td>\n    </tr>\n    <tr>\n      <th>249</th>\n      <td>2020-10-27</td>\n      <td>0.014342</td>\n    </tr>\n    <tr>\n      <th>250</th>\n      <td>2020-10-28</td>\n      <td>-0.038724</td>\n    </tr>\n  </tbody>\n</table>\n<p>251 rows × 2 columns</p>\n</div>"
     },
     "metadata": {},
     "execution_count": 161
    }
   ],
   "source": [
    "# FAANG DF, percent change\n",
    "fang_df"
   ]
  },
  {
   "cell_type": "code",
   "execution_count": 168,
   "metadata": {},
   "outputs": [
    {
     "output_type": "execute_result",
     "data": {
      "text/plain": "           Date   BITCOIN      GOLD     sp500       VNQ        Date     FAANG\n0    2019-10-30 -0.026925  0.005646 -0.011806  0.003612  2019-10-31  0.004508\n1    2019-10-31 -0.000579  0.017401  0.036579 -0.001800  2019-11-01  0.011144\n2    2019-11-01  0.008468 -0.003243  0.003035 -0.000212  2019-11-04  0.010840\n3    2019-11-02  0.007638 -0.000262  0.018942 -0.007000  2019-11-05 -0.004088\n4    2019-11-03 -0.010999 -0.000315 -0.003434 -0.016984  2019-11-06 -0.003077\n..          ...       ...       ...       ...       ...         ...       ...\n246  2020-07-02 -0.015688 -0.001945 -0.002723  0.005373  2020-10-22 -0.002887\n247  2020-07-03 -0.001981  0.004234 -0.000702  0.012774  2020-10-23  0.008706\n248  2020-07-04  0.007422 -0.000268  0.001187  0.000000  2020-10-26 -0.009420\n249  2020-07-05 -0.005846  0.007028 -0.003690  0.000000  2020-10-27  0.014342\n250  2020-07-06  0.028411  0.000199 -0.009570  0.020463  2020-10-28 -0.038724\n\n[251 rows x 7 columns]",
      "text/html": "<div>\n<style scoped>\n    .dataframe tbody tr th:only-of-type {\n        vertical-align: middle;\n    }\n\n    .dataframe tbody tr th {\n        vertical-align: top;\n    }\n\n    .dataframe thead th {\n        text-align: right;\n    }\n</style>\n<table border=\"1\" class=\"dataframe\">\n  <thead>\n    <tr style=\"text-align: right;\">\n      <th></th>\n      <th>Date</th>\n      <th>BITCOIN</th>\n      <th>GOLD</th>\n      <th>sp500</th>\n      <th>VNQ</th>\n      <th>Date</th>\n      <th>FAANG</th>\n    </tr>\n  </thead>\n  <tbody>\n    <tr>\n      <th>0</th>\n      <td>2019-10-30</td>\n      <td>-0.026925</td>\n      <td>0.005646</td>\n      <td>-0.011806</td>\n      <td>0.003612</td>\n      <td>2019-10-31</td>\n      <td>0.004508</td>\n    </tr>\n    <tr>\n      <th>1</th>\n      <td>2019-10-31</td>\n      <td>-0.000579</td>\n      <td>0.017401</td>\n      <td>0.036579</td>\n      <td>-0.001800</td>\n      <td>2019-11-01</td>\n      <td>0.011144</td>\n    </tr>\n    <tr>\n      <th>2</th>\n      <td>2019-11-01</td>\n      <td>0.008468</td>\n      <td>-0.003243</td>\n      <td>0.003035</td>\n      <td>-0.000212</td>\n      <td>2019-11-04</td>\n      <td>0.010840</td>\n    </tr>\n    <tr>\n      <th>3</th>\n      <td>2019-11-02</td>\n      <td>0.007638</td>\n      <td>-0.000262</td>\n      <td>0.018942</td>\n      <td>-0.007000</td>\n      <td>2019-11-05</td>\n      <td>-0.004088</td>\n    </tr>\n    <tr>\n      <th>4</th>\n      <td>2019-11-03</td>\n      <td>-0.010999</td>\n      <td>-0.000315</td>\n      <td>-0.003434</td>\n      <td>-0.016984</td>\n      <td>2019-11-06</td>\n      <td>-0.003077</td>\n    </tr>\n    <tr>\n      <th>...</th>\n      <td>...</td>\n      <td>...</td>\n      <td>...</td>\n      <td>...</td>\n      <td>...</td>\n      <td>...</td>\n      <td>...</td>\n    </tr>\n    <tr>\n      <th>246</th>\n      <td>2020-07-02</td>\n      <td>-0.015688</td>\n      <td>-0.001945</td>\n      <td>-0.002723</td>\n      <td>0.005373</td>\n      <td>2020-10-22</td>\n      <td>-0.002887</td>\n    </tr>\n    <tr>\n      <th>247</th>\n      <td>2020-07-03</td>\n      <td>-0.001981</td>\n      <td>0.004234</td>\n      <td>-0.000702</td>\n      <td>0.012774</td>\n      <td>2020-10-23</td>\n      <td>0.008706</td>\n    </tr>\n    <tr>\n      <th>248</th>\n      <td>2020-07-04</td>\n      <td>0.007422</td>\n      <td>-0.000268</td>\n      <td>0.001187</td>\n      <td>0.000000</td>\n      <td>2020-10-26</td>\n      <td>-0.009420</td>\n    </tr>\n    <tr>\n      <th>249</th>\n      <td>2020-07-05</td>\n      <td>-0.005846</td>\n      <td>0.007028</td>\n      <td>-0.003690</td>\n      <td>0.000000</td>\n      <td>2020-10-27</td>\n      <td>0.014342</td>\n    </tr>\n    <tr>\n      <th>250</th>\n      <td>2020-07-06</td>\n      <td>0.028411</td>\n      <td>0.000199</td>\n      <td>-0.009570</td>\n      <td>0.020463</td>\n      <td>2020-10-28</td>\n      <td>-0.038724</td>\n    </tr>\n  </tbody>\n</table>\n<p>251 rows × 7 columns</p>\n</div>"
     },
     "metadata": {},
     "execution_count": 168
    }
   ],
   "source": [
    "random = pd.concat([good_data, fang_df], axis=\"columns\", join=\"inner\")\n",
    "random"
   ]
  },
  {
   "cell_type": "code",
   "execution_count": 173,
   "metadata": {
    "tags": []
   },
   "outputs": [],
   "source": [
    "# trying to figure out what happened to our CSV and dates\n",
    "\n",
    "pct_change_no_fang = joined_no_weekend.pct_change().dropna()\n",
    "\n",
    "pct_change_no_fang.to_csv(\"../data/csv_files/weird_dates.csv\")"
   ]
  },
  {
   "cell_type": "code",
   "execution_count": 150,
   "metadata": {},
   "outputs": [
    {
     "output_type": "execute_result",
     "data": {
      "text/plain": "Empty DataFrame\nColumns: [BITCOIN, GOLD, sp500, VNQ, Date, FAANG]\nIndex: []",
      "text/html": "<div>\n<style scoped>\n    .dataframe tbody tr th:only-of-type {\n        vertical-align: middle;\n    }\n\n    .dataframe tbody tr th {\n        vertical-align: top;\n    }\n\n    .dataframe thead th {\n        text-align: right;\n    }\n</style>\n<table border=\"1\" class=\"dataframe\">\n  <thead>\n    <tr style=\"text-align: right;\">\n      <th></th>\n      <th>BITCOIN</th>\n      <th>GOLD</th>\n      <th>sp500</th>\n      <th>VNQ</th>\n      <th>Date</th>\n      <th>FAANG</th>\n    </tr>\n  </thead>\n  <tbody>\n  </tbody>\n</table>\n</div>"
     },
     "metadata": {},
     "execution_count": 150
    }
   ],
   "source": [
    "# failure to concatenate\n",
    "\n",
    "universal_pct_change = pd.concat([pct_change_no_fang, fang_df], axis= \"columns\", join=\"inner\")\n",
    "\n",
    "universal_pct_change"
   ]
  },
  {
   "cell_type": "code",
   "execution_count": null,
   "metadata": {},
   "outputs": [],
   "source": []
  }
 ]
}