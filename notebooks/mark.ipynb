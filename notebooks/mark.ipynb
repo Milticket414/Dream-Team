{
 "metadata": {
  "language_info": {
   "codemirror_mode": {
    "name": "ipython",
    "version": 3
   },
   "file_extension": ".py",
   "mimetype": "text/x-python",
   "name": "python",
   "nbconvert_exporter": "python",
   "pygments_lexer": "ipython3",
   "version": "3.8.3-final"
  },
  "orig_nbformat": 2,
  "kernelspec": {
   "name": "python_defaultSpec_1604157410926",
   "display_name": "Python 3.8.3 64-bit ('base': conda)"
  }
 },
 "nbformat": 4,
 "nbformat_minor": 2,
 "cells": [
  {
   "cell_type": "code",
   "execution_count": 1,
   "metadata": {},
   "outputs": [],
   "source": [
    "import os\n",
    "import pandas as pd\n",
    "from pathlib import Path\n",
    "import numpy as np\n",
    "import datetime as dt\n",
    "import csv\n",
    "%matplotlib inline"
   ]
  },
  {
   "cell_type": "code",
   "execution_count": 15,
   "metadata": {},
   "outputs": [],
   "source": [
    "bitcoin_path = (\"../Data/clean/Bitcoin.csv\")\n",
    "gold_path = (\"../Data/clean/Gold.csv\")\n",
    "#van_path = (\"../Data/raw_csv/VNQ.csv\")\n",
    "sp500_path = (\"../Data/clean/sp500.csv\")\n"
   ]
  },
  {
   "cell_type": "code",
   "execution_count": 16,
   "metadata": {},
   "outputs": [],
   "source": [
    "bitcoin_df = pd.read_csv(bitcoin_path)\n",
    "gold_df = pd.read_csv(gold_path)\n",
    "## van_df = pd.read_csv(van_path)\n",
    "sp500_df = pd.read_csv(sp500_path)"
   ]
  },
  {
   "cell_type": "code",
   "execution_count": 19,
   "metadata": {},
   "outputs": [
    {
     "output_type": "execute_result",
     "data": {
      "text/plain": "           Date  BITCOIN        Date     GOLD        Date    sp500\n0    2019-10-29   9411.3  2020-10-29  1868.65  2020-10-29  3310.11\n1    2019-10-30   9157.9  2020-10-28  1879.20  2020-10-28  3271.03\n2    2019-10-31   9152.6  2020-10-27  1911.90  2020-10-27  3390.68\n3    2019-11-01   9230.1  2020-10-26  1905.70  2020-10-26  3400.97\n4    2019-11-02   9300.6  2020-10-23  1905.20  2020-10-23  3465.39\n..          ...      ...         ...      ...         ...      ...\n360  2020-10-23  12934.1  2019-06-20  1429.40  2019-05-29  2783.02\n361  2020-10-24  13117.2  2019-06-19  1384.40  2019-05-28  2802.39\n362  2020-10-25  13032.2  2019-06-18  1387.40  2019-05-24  2826.06\n363  2020-10-26  13061.6  2019-06-17  1379.60  2019-05-23  2822.24\n364  2020-10-27  13657.8  2019-06-14  1381.50  2019-05-22  2856.27\n\n[365 rows x 6 columns]",
      "text/html": "<div>\n<style scoped>\n    .dataframe tbody tr th:only-of-type {\n        vertical-align: middle;\n    }\n\n    .dataframe tbody tr th {\n        vertical-align: top;\n    }\n\n    .dataframe thead th {\n        text-align: right;\n    }\n</style>\n<table border=\"1\" class=\"dataframe\">\n  <thead>\n    <tr style=\"text-align: right;\">\n      <th></th>\n      <th>Date</th>\n      <th>BITCOIN</th>\n      <th>Date</th>\n      <th>GOLD</th>\n      <th>Date</th>\n      <th>sp500</th>\n    </tr>\n  </thead>\n  <tbody>\n    <tr>\n      <th>0</th>\n      <td>2019-10-29</td>\n      <td>9411.3</td>\n      <td>2020-10-29</td>\n      <td>1868.65</td>\n      <td>2020-10-29</td>\n      <td>3310.11</td>\n    </tr>\n    <tr>\n      <th>1</th>\n      <td>2019-10-30</td>\n      <td>9157.9</td>\n      <td>2020-10-28</td>\n      <td>1879.20</td>\n      <td>2020-10-28</td>\n      <td>3271.03</td>\n    </tr>\n    <tr>\n      <th>2</th>\n      <td>2019-10-31</td>\n      <td>9152.6</td>\n      <td>2020-10-27</td>\n      <td>1911.90</td>\n      <td>2020-10-27</td>\n      <td>3390.68</td>\n    </tr>\n    <tr>\n      <th>3</th>\n      <td>2019-11-01</td>\n      <td>9230.1</td>\n      <td>2020-10-26</td>\n      <td>1905.70</td>\n      <td>2020-10-26</td>\n      <td>3400.97</td>\n    </tr>\n    <tr>\n      <th>4</th>\n      <td>2019-11-02</td>\n      <td>9300.6</td>\n      <td>2020-10-23</td>\n      <td>1905.20</td>\n      <td>2020-10-23</td>\n      <td>3465.39</td>\n    </tr>\n    <tr>\n      <th>...</th>\n      <td>...</td>\n      <td>...</td>\n      <td>...</td>\n      <td>...</td>\n      <td>...</td>\n      <td>...</td>\n    </tr>\n    <tr>\n      <th>360</th>\n      <td>2020-10-23</td>\n      <td>12934.1</td>\n      <td>2019-06-20</td>\n      <td>1429.40</td>\n      <td>2019-05-29</td>\n      <td>2783.02</td>\n    </tr>\n    <tr>\n      <th>361</th>\n      <td>2020-10-24</td>\n      <td>13117.2</td>\n      <td>2019-06-19</td>\n      <td>1384.40</td>\n      <td>2019-05-28</td>\n      <td>2802.39</td>\n    </tr>\n    <tr>\n      <th>362</th>\n      <td>2020-10-25</td>\n      <td>13032.2</td>\n      <td>2019-06-18</td>\n      <td>1387.40</td>\n      <td>2019-05-24</td>\n      <td>2826.06</td>\n    </tr>\n    <tr>\n      <th>363</th>\n      <td>2020-10-26</td>\n      <td>13061.6</td>\n      <td>2019-06-17</td>\n      <td>1379.60</td>\n      <td>2019-05-23</td>\n      <td>2822.24</td>\n    </tr>\n    <tr>\n      <th>364</th>\n      <td>2020-10-27</td>\n      <td>13657.8</td>\n      <td>2019-06-14</td>\n      <td>1381.50</td>\n      <td>2019-05-22</td>\n      <td>2856.27</td>\n    </tr>\n  </tbody>\n</table>\n<p>365 rows × 6 columns</p>\n</div>"
     },
     "metadata": {},
     "execution_count": 19
    }
   ],
   "source": [
    "huge_df = pd.concat([bitcoin_df, gold_df, sp500_df], axis=\"columns\", join=\"inner\")\n",
    "\n",
    "huge_df"
   ]
  },
  {
   "cell_type": "code",
   "execution_count": null,
   "metadata": {},
   "outputs": [],
   "source": []
  }
 ]
}