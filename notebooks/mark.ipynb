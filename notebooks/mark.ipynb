{
 "metadata": {
  "language_info": {
   "codemirror_mode": {
    "name": "ipython",
    "version": 3
   },
   "file_extension": ".py",
   "mimetype": "text/x-python",
   "name": "python",
   "nbconvert_exporter": "python",
   "pygments_lexer": "ipython3",
   "version": "3.8.3-final"
  },
  "orig_nbformat": 2,
  "kernelspec": {
   "name": "python_defaultSpec_1604157410926",
   "display_name": "Python 3.8.3 64-bit ('base': conda)"
  }
 },
 "nbformat": 4,
 "nbformat_minor": 2,
 "cells": [
  {
   "cell_type": "code",
   "execution_count": 1,
   "metadata": {},
   "outputs": [],
   "source": [
    "import os\n",
    "import pandas as pd\n",
    "from pathlib import Path\n",
    "import numpy as np\n",
    "import datetime as dt\n",
    "import csv\n",
    "%matplotlib inline"
   ]
  },
  {
   "cell_type": "code",
   "execution_count": 9,
   "metadata": {},
   "outputs": [],
   "source": [
    "bitcoin_path = (\"../Data/raw_csv/Bitcoin_Historical_Data.csv\")\n",
    "gold_path = (\"../Data/raw_csv/gold.csv\")\n",
    "van_path = (\"../Data/raw_csv/VNQ.csv\")\n",
    "sp500_path = (\"../Data/csv_files/sp500.csv\")\n"
   ]
  },
  {
   "cell_type": "code",
   "execution_count": 10,
   "metadata": {},
   "outputs": [],
   "source": [
    "bitcoin_df = pd.read_csv(bitcoin_path)\n",
    "gold_df = pd.read_csv(gold_path)\n",
    "van_df = pd.read_csv(van_path)\n",
    "sp500_df = pd.read_csv(sp500_path)"
   ]
  },
  {
   "cell_type": "code",
   "execution_count": 14,
   "metadata": {},
   "outputs": [
    {
     "output_type": "execute_result",
     "data": {
      "text/plain": "         Date  Price   Open   High    Low   Vol. Change %\n0   29-Oct-20  77.10  76.20  77.68  75.46  4.65M    1.34%\n1   28-Oct-20  76.08  76.68  77.43  75.79  4.42M   -2.39%\n2   27-Oct-20  77.94  79.30  79.73  77.94  2.26M   -1.60%\n3   26-Oct-20  79.21  79.74  79.86  78.51  2.69M   -1.43%\n4   23-Oct-20  80.36  80.18  80.67  79.69  2.59M    0.60%\n5   22-Oct-20  79.88  79.88  80.22  79.53  3.83M   -0.01%\n6   21-Oct-20  79.89  79.91  80.27  79.51  2.69M   -0.30%\n7   20-Oct-20  80.13  80.09  80.74  79.93  4.04M    0.72%\n8   19-Oct-20  79.56  81.03  81.20  79.44  5.11M   -1.56%\n9   16-Oct-20  80.82  81.41  81.43  80.67  2.93M   -0.71%\n10  15-Oct-20  81.40  80.52  82.06  80.44  2.92M    0.52%\n11  14-Oct-20  80.98  81.95  82.07  80.87  4.65M   -1.22%\n12  13-Oct-20  81.98  83.06  83.06  81.50  4.41M   -1.71%\n13  12-Oct-20  83.41  83.18  83.64  82.55  5.66M    0.47%\n14  11-Oct-20  83.02  83.02  83.02  83.02      -    0.00%\n15   9-Oct-20  83.02  83.86  83.88  82.73  6.56M   -0.40%\n16   8-Oct-20  83.35  82.45  83.56  82.30  2.27M    1.67%\n17   7-Oct-20  81.98  82.38  82.39  81.60  2.36M    0.15%\n18   6-Oct-20  81.86  82.61  83.07  81.54  5.83M   -0.66%\n19   5-Oct-20  82.40  82.30  82.52  80.87  2.65M    0.57%\n20   4-Oct-20  81.93  81.93  81.93  81.93      -    0.00%\n21   3-Oct-20  81.93  81.93  81.93  81.93      -    0.00%\n22   2-Oct-20  81.93  79.39  82.19  79.19  3.35M    1.73%\n23   1-Oct-20  80.54  79.28  80.59  78.94  6.41M    2.00%\n24  30-Sep-20  78.96  79.12  79.88  78.17  4.51M    0.30%",
      "text/html": "<div>\n<style scoped>\n    .dataframe tbody tr th:only-of-type {\n        vertical-align: middle;\n    }\n\n    .dataframe tbody tr th {\n        vertical-align: top;\n    }\n\n    .dataframe thead th {\n        text-align: right;\n    }\n</style>\n<table border=\"1\" class=\"dataframe\">\n  <thead>\n    <tr style=\"text-align: right;\">\n      <th></th>\n      <th>Date</th>\n      <th>Price</th>\n      <th>Open</th>\n      <th>High</th>\n      <th>Low</th>\n      <th>Vol.</th>\n      <th>Change %</th>\n    </tr>\n  </thead>\n  <tbody>\n    <tr>\n      <th>0</th>\n      <td>29-Oct-20</td>\n      <td>77.10</td>\n      <td>76.20</td>\n      <td>77.68</td>\n      <td>75.46</td>\n      <td>4.65M</td>\n      <td>1.34%</td>\n    </tr>\n    <tr>\n      <th>1</th>\n      <td>28-Oct-20</td>\n      <td>76.08</td>\n      <td>76.68</td>\n      <td>77.43</td>\n      <td>75.79</td>\n      <td>4.42M</td>\n      <td>-2.39%</td>\n    </tr>\n    <tr>\n      <th>2</th>\n      <td>27-Oct-20</td>\n      <td>77.94</td>\n      <td>79.30</td>\n      <td>79.73</td>\n      <td>77.94</td>\n      <td>2.26M</td>\n      <td>-1.60%</td>\n    </tr>\n    <tr>\n      <th>3</th>\n      <td>26-Oct-20</td>\n      <td>79.21</td>\n      <td>79.74</td>\n      <td>79.86</td>\n      <td>78.51</td>\n      <td>2.69M</td>\n      <td>-1.43%</td>\n    </tr>\n    <tr>\n      <th>4</th>\n      <td>23-Oct-20</td>\n      <td>80.36</td>\n      <td>80.18</td>\n      <td>80.67</td>\n      <td>79.69</td>\n      <td>2.59M</td>\n      <td>0.60%</td>\n    </tr>\n    <tr>\n      <th>5</th>\n      <td>22-Oct-20</td>\n      <td>79.88</td>\n      <td>79.88</td>\n      <td>80.22</td>\n      <td>79.53</td>\n      <td>3.83M</td>\n      <td>-0.01%</td>\n    </tr>\n    <tr>\n      <th>6</th>\n      <td>21-Oct-20</td>\n      <td>79.89</td>\n      <td>79.91</td>\n      <td>80.27</td>\n      <td>79.51</td>\n      <td>2.69M</td>\n      <td>-0.30%</td>\n    </tr>\n    <tr>\n      <th>7</th>\n      <td>20-Oct-20</td>\n      <td>80.13</td>\n      <td>80.09</td>\n      <td>80.74</td>\n      <td>79.93</td>\n      <td>4.04M</td>\n      <td>0.72%</td>\n    </tr>\n    <tr>\n      <th>8</th>\n      <td>19-Oct-20</td>\n      <td>79.56</td>\n      <td>81.03</td>\n      <td>81.20</td>\n      <td>79.44</td>\n      <td>5.11M</td>\n      <td>-1.56%</td>\n    </tr>\n    <tr>\n      <th>9</th>\n      <td>16-Oct-20</td>\n      <td>80.82</td>\n      <td>81.41</td>\n      <td>81.43</td>\n      <td>80.67</td>\n      <td>2.93M</td>\n      <td>-0.71%</td>\n    </tr>\n    <tr>\n      <th>10</th>\n      <td>15-Oct-20</td>\n      <td>81.40</td>\n      <td>80.52</td>\n      <td>82.06</td>\n      <td>80.44</td>\n      <td>2.92M</td>\n      <td>0.52%</td>\n    </tr>\n    <tr>\n      <th>11</th>\n      <td>14-Oct-20</td>\n      <td>80.98</td>\n      <td>81.95</td>\n      <td>82.07</td>\n      <td>80.87</td>\n      <td>4.65M</td>\n      <td>-1.22%</td>\n    </tr>\n    <tr>\n      <th>12</th>\n      <td>13-Oct-20</td>\n      <td>81.98</td>\n      <td>83.06</td>\n      <td>83.06</td>\n      <td>81.50</td>\n      <td>4.41M</td>\n      <td>-1.71%</td>\n    </tr>\n    <tr>\n      <th>13</th>\n      <td>12-Oct-20</td>\n      <td>83.41</td>\n      <td>83.18</td>\n      <td>83.64</td>\n      <td>82.55</td>\n      <td>5.66M</td>\n      <td>0.47%</td>\n    </tr>\n    <tr>\n      <th>14</th>\n      <td>11-Oct-20</td>\n      <td>83.02</td>\n      <td>83.02</td>\n      <td>83.02</td>\n      <td>83.02</td>\n      <td>-</td>\n      <td>0.00%</td>\n    </tr>\n    <tr>\n      <th>15</th>\n      <td>9-Oct-20</td>\n      <td>83.02</td>\n      <td>83.86</td>\n      <td>83.88</td>\n      <td>82.73</td>\n      <td>6.56M</td>\n      <td>-0.40%</td>\n    </tr>\n    <tr>\n      <th>16</th>\n      <td>8-Oct-20</td>\n      <td>83.35</td>\n      <td>82.45</td>\n      <td>83.56</td>\n      <td>82.30</td>\n      <td>2.27M</td>\n      <td>1.67%</td>\n    </tr>\n    <tr>\n      <th>17</th>\n      <td>7-Oct-20</td>\n      <td>81.98</td>\n      <td>82.38</td>\n      <td>82.39</td>\n      <td>81.60</td>\n      <td>2.36M</td>\n      <td>0.15%</td>\n    </tr>\n    <tr>\n      <th>18</th>\n      <td>6-Oct-20</td>\n      <td>81.86</td>\n      <td>82.61</td>\n      <td>83.07</td>\n      <td>81.54</td>\n      <td>5.83M</td>\n      <td>-0.66%</td>\n    </tr>\n    <tr>\n      <th>19</th>\n      <td>5-Oct-20</td>\n      <td>82.40</td>\n      <td>82.30</td>\n      <td>82.52</td>\n      <td>80.87</td>\n      <td>2.65M</td>\n      <td>0.57%</td>\n    </tr>\n    <tr>\n      <th>20</th>\n      <td>4-Oct-20</td>\n      <td>81.93</td>\n      <td>81.93</td>\n      <td>81.93</td>\n      <td>81.93</td>\n      <td>-</td>\n      <td>0.00%</td>\n    </tr>\n    <tr>\n      <th>21</th>\n      <td>3-Oct-20</td>\n      <td>81.93</td>\n      <td>81.93</td>\n      <td>81.93</td>\n      <td>81.93</td>\n      <td>-</td>\n      <td>0.00%</td>\n    </tr>\n    <tr>\n      <th>22</th>\n      <td>2-Oct-20</td>\n      <td>81.93</td>\n      <td>79.39</td>\n      <td>82.19</td>\n      <td>79.19</td>\n      <td>3.35M</td>\n      <td>1.73%</td>\n    </tr>\n    <tr>\n      <th>23</th>\n      <td>1-Oct-20</td>\n      <td>80.54</td>\n      <td>79.28</td>\n      <td>80.59</td>\n      <td>78.94</td>\n      <td>6.41M</td>\n      <td>2.00%</td>\n    </tr>\n    <tr>\n      <th>24</th>\n      <td>30-Sep-20</td>\n      <td>78.96</td>\n      <td>79.12</td>\n      <td>79.88</td>\n      <td>78.17</td>\n      <td>4.51M</td>\n      <td>0.30%</td>\n    </tr>\n  </tbody>\n</table>\n</div>"
     },
     "metadata": {},
     "execution_count": 14
    }
   ],
   "source": [
    "van_df"
   ]
  },
  {
   "cell_type": "code",
   "execution_count": null,
   "metadata": {},
   "outputs": [],
   "source": []
  }
 ]
}