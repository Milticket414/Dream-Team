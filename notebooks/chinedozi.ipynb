{
 "metadata": {
  "language_info": {
   "codemirror_mode": {
    "name": "ipython",
    "version": 3
   },
   "file_extension": ".py",
   "mimetype": "text/x-python",
   "name": "python",
   "nbconvert_exporter": "python",
   "pygments_lexer": "ipython3",
   "version": "3.8.3-final"
  },
  "orig_nbformat": 2,
  "kernelspec": {
   "name": "python3",
   "display_name": "Python 3"
  }
 },
 "nbformat": 4,
 "nbformat_minor": 2,
 "cells": [
  {
   "cell_type": "code",
   "execution_count": 16,
   "metadata": {},
   "outputs": [],
   "source": [
    "import os\n",
    "import pandas as pd\n",
    "from pathlib import Path\n",
    "import csv"
   ]
  },
  {
   "cell_type": "code",
   "execution_count": 44,
   "metadata": {},
   "outputs": [
    {
     "output_type": "execute_result",
     "data": {
      "text/plain": [
       "              BITCOIN\n",
       "Date                 \n",
       "2010-09-29        0.1\n",
       "2010-09-30        0.1\n",
       "2010-10-01        0.1\n",
       "2010-10-02        0.1\n",
       "2010-10-03        0.1\n",
       "...               ...\n",
       "2020-10-25  13,032.20\n",
       "2020-10-26  13,061.60\n",
       "2020-10-27  13,657.80\n",
       "2020-10-28  13,278.90\n",
       "2020-10-29  13,461.40\n",
       "\n",
       "[3684 rows x 1 columns]"
      ],
      "text/html": "<div>\n<style scoped>\n    .dataframe tbody tr th:only-of-type {\n        vertical-align: middle;\n    }\n\n    .dataframe tbody tr th {\n        vertical-align: top;\n    }\n\n    .dataframe thead th {\n        text-align: right;\n    }\n</style>\n<table border=\"1\" class=\"dataframe\">\n  <thead>\n    <tr style=\"text-align: right;\">\n      <th></th>\n      <th>BITCOIN</th>\n    </tr>\n    <tr>\n      <th>Date</th>\n      <th></th>\n    </tr>\n  </thead>\n  <tbody>\n    <tr>\n      <th>2010-09-29</th>\n      <td>0.1</td>\n    </tr>\n    <tr>\n      <th>2010-09-30</th>\n      <td>0.1</td>\n    </tr>\n    <tr>\n      <th>2010-10-01</th>\n      <td>0.1</td>\n    </tr>\n    <tr>\n      <th>2010-10-02</th>\n      <td>0.1</td>\n    </tr>\n    <tr>\n      <th>2010-10-03</th>\n      <td>0.1</td>\n    </tr>\n    <tr>\n      <th>...</th>\n      <td>...</td>\n    </tr>\n    <tr>\n      <th>2020-10-25</th>\n      <td>13,032.20</td>\n    </tr>\n    <tr>\n      <th>2020-10-26</th>\n      <td>13,061.60</td>\n    </tr>\n    <tr>\n      <th>2020-10-27</th>\n      <td>13,657.80</td>\n    </tr>\n    <tr>\n      <th>2020-10-28</th>\n      <td>13,278.90</td>\n    </tr>\n    <tr>\n      <th>2020-10-29</th>\n      <td>13,461.40</td>\n    </tr>\n  </tbody>\n</table>\n<p>3684 rows × 1 columns</p>\n</div>"
     },
     "metadata": {},
     "execution_count": 44
    }
   ],
   "source": [
    "# import Historical Bitcoin, Bitcoin cash, Chainlink, Ethereum, Tether and XRP Data\n",
    "\n",
    "bitcoin_df = pd.read_csv(\"../Data/csv_files/Bitcoin_Historical_Data.csv\" , index_col=\"Date\", parse_dates=True, infer_datetime_format=False)\n",
    "\n",
    "# Change Price column name to BITCOIN\n",
    "bitcoin_df_col = bitcoin_df.rename(columns = {\"Price\" : \"BITCOIN\"})\n",
    "\n",
    "# Drop unnecessary columns\n",
    "bitcoin_df_col.drop(columns=[\"Open\", \"High\", \"Low\", \"Vol.\", \"Change %\"], inplace=True)\n",
    "\n",
    "\n",
    "# Show clean data\n",
    "clean_data = bitcoin_df_col.sort_index(ascending=True)\n",
    "clean_data"
   ]
  },
  {
   "cell_type": "code",
   "execution_count": null,
   "metadata": {},
   "outputs": [],
   "source": []
  }
 ]
}