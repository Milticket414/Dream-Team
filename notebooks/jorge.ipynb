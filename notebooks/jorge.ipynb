{
 "metadata": {
  "language_info": {
   "codemirror_mode": {
    "name": "ipython",
    "version": 3
   },
   "file_extension": ".py",
   "mimetype": "text/x-python",
   "name": "python",
   "nbconvert_exporter": "python",
   "pygments_lexer": "ipython3",
   "version": "3.7.6-final"
  },
  "orig_nbformat": 2,
  "kernelspec": {
   "name": "python3",
   "display_name": "Python 3"
  }
 },
 "nbformat": 4,
 "nbformat_minor": 2,
 "cells": [
  {
   "cell_type": "code",
   "execution_count": 2,
   "metadata": {},
   "outputs": [],
   "source": [
    "import pandas as pd\n",
    "import numpy as np\n",
    "import datetime as dt\n",
    "from pathlib import Path\n",
    "%matplotlib inline"
   ]
  },
  {
   "cell_type": "code",
   "execution_count": 63,
   "metadata": {},
   "outputs": [],
   "source": [
    "#apple_csv = Path(\"..data/csv_files/Apple.csv\")\n",
    "apple_df = pd.read_csv(\"../data/csv_files/Apple.csv\", index_col= \"Date\", parse_dates=True, infer_datetime_format=True)\n",
    "\n",
    "facebook_df = pd.read_csv(\"../data/csv_files/Facebook.csv\", index_col= \"Date\", parse_dates=True, infer_datetime_format=True)\n",
    "\n",
    "google_df = pd.read_csv(\"../data/csv_files/Google.csv\", index_col= \"Date\", parse_dates=True, infer_datetime_format=True)\n",
    "\n",
    "netflix_df = pd.read_csv(\"../data/csv_files/Netflix.csv\", index_col= \"Date\", parse_dates=True, infer_datetime_format=True)\n",
    "\n",
    "amazon = pd.read_csv(\"../data/csv_files/Amazon.csv\", index_col= \"Date\", parse_dates=True, infer_datetime_format=True)"
   ]
  },
  {
   "cell_type": "code",
   "execution_count": 64,
   "metadata": {},
   "outputs": [],
   "source": [
    "apple_df.rename(columns={\"Close\":\"AAPL\"}, inplace=True)\n",
    "\n",
    "google_df.rename(columns={\"Close\":\"GOOGL\"}, inplace=True)\n",
    "\n",
    "netflix_df.rename(columns={\"Close\":\"NFLX\"}, inplace=True)\n",
    "\n",
    "facebook_df.rename(columns={\"Close\":\"FB\"}, inplace=True)"
   ]
  },
  {
   "cell_type": "code",
   "execution_count": 65,
   "metadata": {},
   "outputs": [
    {
     "output_type": "execute_result",
     "data": {
      "text/plain": [
       "              NFLX\n",
       "Date              \n",
       "2019-10-29  281.21\n",
       "2019-10-30  291.45\n",
       "2019-10-31  287.41\n",
       "2019-11-01  286.81\n",
       "2019-11-04  292.86"
      ],
      "text/html": "<div>\n<style scoped>\n    .dataframe tbody tr th:only-of-type {\n        vertical-align: middle;\n    }\n\n    .dataframe tbody tr th {\n        vertical-align: top;\n    }\n\n    .dataframe thead th {\n        text-align: right;\n    }\n</style>\n<table border=\"1\" class=\"dataframe\">\n  <thead>\n    <tr style=\"text-align: right;\">\n      <th></th>\n      <th>NFLX</th>\n    </tr>\n    <tr>\n      <th>Date</th>\n      <th></th>\n    </tr>\n  </thead>\n  <tbody>\n    <tr>\n      <th>2019-10-29</th>\n      <td>281.21</td>\n    </tr>\n    <tr>\n      <th>2019-10-30</th>\n      <td>291.45</td>\n    </tr>\n    <tr>\n      <th>2019-10-31</th>\n      <td>287.41</td>\n    </tr>\n    <tr>\n      <th>2019-11-01</th>\n      <td>286.81</td>\n    </tr>\n    <tr>\n      <th>2019-11-04</th>\n      <td>292.86</td>\n    </tr>\n  </tbody>\n</table>\n</div>"
     },
     "metadata": {},
     "execution_count": 65
    }
   ],
   "source": [
    "netflix_df.head()"
   ]
  },
  {
   "cell_type": "code",
   "execution_count": null,
   "metadata": {},
   "outputs": [],
   "source": []
  },
  {
   "cell_type": "code",
   "execution_count": 62,
   "metadata": {},
   "outputs": [
    {
     "output_type": "execute_result",
     "data": {
      "text/plain": [
       "              Close\n",
       "Date               \n",
       "2019-10-29  1762.71\n",
       "2019-10-30  1779.99\n",
       "2019-10-31  1776.66\n",
       "2019-11-01  1791.44\n",
       "2019-11-04  1804.66"
      ],
      "text/html": "<div>\n<style scoped>\n    .dataframe tbody tr th:only-of-type {\n        vertical-align: middle;\n    }\n\n    .dataframe tbody tr th {\n        vertical-align: top;\n    }\n\n    .dataframe thead th {\n        text-align: right;\n    }\n</style>\n<table border=\"1\" class=\"dataframe\">\n  <thead>\n    <tr style=\"text-align: right;\">\n      <th></th>\n      <th>Close</th>\n    </tr>\n    <tr>\n      <th>Date</th>\n      <th></th>\n    </tr>\n  </thead>\n  <tbody>\n    <tr>\n      <th>2019-10-29</th>\n      <td>1762.71</td>\n    </tr>\n    <tr>\n      <th>2019-10-30</th>\n      <td>1779.99</td>\n    </tr>\n    <tr>\n      <th>2019-10-31</th>\n      <td>1776.66</td>\n    </tr>\n    <tr>\n      <th>2019-11-01</th>\n      <td>1791.44</td>\n    </tr>\n    <tr>\n      <th>2019-11-04</th>\n      <td>1804.66</td>\n    </tr>\n  </tbody>\n</table>\n</div>"
     },
     "metadata": {},
     "execution_count": 62
    }
   ],
   "source": [
    "amazon.head()"
   ]
  },
  {
   "cell_type": "code",
   "execution_count": null,
   "metadata": {},
   "outputs": [],
   "source": []
  }
 ]
}