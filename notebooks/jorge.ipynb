{
 "metadata": {
  "language_info": {
   "codemirror_mode": {
    "name": "ipython",
    "version": 3
   },
   "file_extension": ".py",
   "mimetype": "text/x-python",
   "name": "python",
   "nbconvert_exporter": "python",
   "pygments_lexer": "ipython3",
   "version": "3.7.6-final"
  },
  "orig_nbformat": 2,
  "kernelspec": {
   "name": "python3",
   "display_name": "Python 3"
  }
 },
 "nbformat": 4,
 "nbformat_minor": 2,
 "cells": [
  {
   "cell_type": "code",
   "execution_count": 79,
   "metadata": {},
   "outputs": [],
   "source": [
    "import pandas as pd\n",
    "import numpy as np\n",
    "import datetime as dt\n",
    "from pathlib import Path\n",
    "%matplotlib inline"
   ]
  },
  {
   "cell_type": "code",
   "execution_count": 85,
   "metadata": {},
   "outputs": [],
   "source": [
    "#apple_csv = Path(\"..data/csv_files/Apple.csv\")\n",
    "apple_df = pd.read_csv(\"../data/csv_files/Apple.csv\", index_col= \"Date\", parse_dates=True, infer_datetime_format=True)\n",
    "\n",
    "facebook_df = pd.read_csv(\"../data/csv_files/Facebook.csv\", index_col= \"Date\", parse_dates=True, infer_datetime_format=True)\n",
    "\n",
    "google_df = pd.read_csv(\"../data/csv_files/Google.csv\", index_col= \"Date\", parse_dates=True, infer_datetime_format=True)\n",
    "\n",
    "netflix_df = pd.read_csv(\"../data/csv_files/Netflix.csv\", index_col= \"Date\", parse_dates=True, infer_datetime_format=True)\n",
    "\n",
    "amazon_df = pd.read_csv(\"../data/csv_files/Amazon.csv\", index_col= \"Date\", parse_dates=True, infer_datetime_format=True)"
   ]
  },
  {
   "cell_type": "code",
   "execution_count": 86,
   "metadata": {},
   "outputs": [],
   "source": [
    "apple_df.rename(columns={\"Close\":\"AAPL\"}, inplace=True)\n",
    "\n",
    "google_df.rename(columns={\"Close\":\"GOOGL\"}, inplace=True)\n",
    "\n",
    "netflix_df.rename(columns={\"Close\":\"NFLX\"}, inplace=True)\n",
    "\n",
    "facebook_df.rename(columns={\"Close\":\"FB\"}, inplace=True)\n",
    "\n",
    "amazon_df.rename(columns={\"Close\":\"AMZN\"}, inplace=True)"
   ]
  },
  {
   "cell_type": "code",
   "execution_count": 87,
   "metadata": {},
   "outputs": [
    {
     "output_type": "execute_result",
     "data": {
      "text/plain": [
       "             AAPL\n",
       "Date             \n",
       "2019-10-29  60.82\n",
       "2019-10-30  60.82\n",
       "2019-10-31  62.19\n",
       "2019-11-01  63.96\n",
       "2019-11-04  64.38"
      ],
      "text/html": "<div>\n<style scoped>\n    .dataframe tbody tr th:only-of-type {\n        vertical-align: middle;\n    }\n\n    .dataframe tbody tr th {\n        vertical-align: top;\n    }\n\n    .dataframe thead th {\n        text-align: right;\n    }\n</style>\n<table border=\"1\" class=\"dataframe\">\n  <thead>\n    <tr style=\"text-align: right;\">\n      <th></th>\n      <th>AAPL</th>\n    </tr>\n    <tr>\n      <th>Date</th>\n      <th></th>\n    </tr>\n  </thead>\n  <tbody>\n    <tr>\n      <th>2019-10-29</th>\n      <td>60.82</td>\n    </tr>\n    <tr>\n      <th>2019-10-30</th>\n      <td>60.82</td>\n    </tr>\n    <tr>\n      <th>2019-10-31</th>\n      <td>62.19</td>\n    </tr>\n    <tr>\n      <th>2019-11-01</th>\n      <td>63.96</td>\n    </tr>\n    <tr>\n      <th>2019-11-04</th>\n      <td>64.38</td>\n    </tr>\n  </tbody>\n</table>\n</div>"
     },
     "metadata": {},
     "execution_count": 87
    }
   ],
   "source": [
    "apple_df.head()"
   ]
  },
  {
   "cell_type": "code",
   "execution_count": 90,
   "metadata": {},
   "outputs": [
    {
     "output_type": "execute_result",
     "data": {
      "text/plain": [
       "                FB   AAPL     AMZN    NFLX    GOOGL\n",
       "Date                                               \n",
       "2019-10-29  189.31  60.82  1762.71  281.21  1260.66\n",
       "2019-10-30  188.25  60.82  1779.99  291.45  1260.70\n",
       "2019-10-31  191.65  62.19  1776.66  287.41  1258.80\n",
       "2019-11-01  193.62  63.96  1791.44  286.81  1272.25\n",
       "2019-11-04  194.72  64.38  1804.66  292.86  1289.61"
      ],
      "text/html": "<div>\n<style scoped>\n    .dataframe tbody tr th:only-of-type {\n        vertical-align: middle;\n    }\n\n    .dataframe tbody tr th {\n        vertical-align: top;\n    }\n\n    .dataframe thead th {\n        text-align: right;\n    }\n</style>\n<table border=\"1\" class=\"dataframe\">\n  <thead>\n    <tr style=\"text-align: right;\">\n      <th></th>\n      <th>FB</th>\n      <th>AAPL</th>\n      <th>AMZN</th>\n      <th>NFLX</th>\n      <th>GOOGL</th>\n    </tr>\n    <tr>\n      <th>Date</th>\n      <th></th>\n      <th></th>\n      <th></th>\n      <th></th>\n      <th></th>\n    </tr>\n  </thead>\n  <tbody>\n    <tr>\n      <th>2019-10-29</th>\n      <td>189.31</td>\n      <td>60.82</td>\n      <td>1762.71</td>\n      <td>281.21</td>\n      <td>1260.66</td>\n    </tr>\n    <tr>\n      <th>2019-10-30</th>\n      <td>188.25</td>\n      <td>60.82</td>\n      <td>1779.99</td>\n      <td>291.45</td>\n      <td>1260.70</td>\n    </tr>\n    <tr>\n      <th>2019-10-31</th>\n      <td>191.65</td>\n      <td>62.19</td>\n      <td>1776.66</td>\n      <td>287.41</td>\n      <td>1258.80</td>\n    </tr>\n    <tr>\n      <th>2019-11-01</th>\n      <td>193.62</td>\n      <td>63.96</td>\n      <td>1791.44</td>\n      <td>286.81</td>\n      <td>1272.25</td>\n    </tr>\n    <tr>\n      <th>2019-11-04</th>\n      <td>194.72</td>\n      <td>64.38</td>\n      <td>1804.66</td>\n      <td>292.86</td>\n      <td>1289.61</td>\n    </tr>\n  </tbody>\n</table>\n</div>"
     },
     "metadata": {},
     "execution_count": 90
    }
   ],
   "source": [
    "daily_prices = pd.concat([facebook_df, apple_df, amazon_df, netflix_df, google_df], axis=\"columns\", join=\"inner\")\n",
    "\n",
    "daily_prices.sort_index(inplace=True)\n",
    "daily_prices.head()"
   ]
  },
  {
   "cell_type": "code",
   "execution_count": 91,
   "metadata": {},
   "outputs": [
    {
     "output_type": "execute_result",
     "data": {
      "text/plain": [
       "          Date      FB    AAPL     AMZN    NFLX    GOOGL\n",
       "0   2019-10-29  189.31   60.82  1762.71  281.21  1260.66\n",
       "1   2019-10-30  188.25   60.82  1779.99  291.45  1260.70\n",
       "2   2019-10-31  191.65   62.19  1776.66  287.41  1258.80\n",
       "3   2019-11-01  193.62   63.96  1791.44  286.81  1272.25\n",
       "4   2019-11-04  194.72   64.38  1804.66  292.86  1289.61\n",
       "..         ...     ...     ...      ...     ...      ...\n",
       "248 2020-10-22  278.12  115.75  3176.40  485.23  1606.66\n",
       "249 2020-10-23  284.79  115.04  3204.40  488.28  1632.98\n",
       "250 2020-10-26  277.11  115.05  3207.04  488.24  1584.29\n",
       "251 2020-10-27  283.29  116.60  3286.33  488.93  1598.88\n",
       "252 2020-10-28  267.67  111.20  3162.78  486.24  1510.80\n",
       "\n",
       "[253 rows x 6 columns]"
      ],
      "text/html": "<div>\n<style scoped>\n    .dataframe tbody tr th:only-of-type {\n        vertical-align: middle;\n    }\n\n    .dataframe tbody tr th {\n        vertical-align: top;\n    }\n\n    .dataframe thead th {\n        text-align: right;\n    }\n</style>\n<table border=\"1\" class=\"dataframe\">\n  <thead>\n    <tr style=\"text-align: right;\">\n      <th></th>\n      <th>Date</th>\n      <th>FB</th>\n      <th>AAPL</th>\n      <th>AMZN</th>\n      <th>NFLX</th>\n      <th>GOOGL</th>\n    </tr>\n  </thead>\n  <tbody>\n    <tr>\n      <th>0</th>\n      <td>2019-10-29</td>\n      <td>189.31</td>\n      <td>60.82</td>\n      <td>1762.71</td>\n      <td>281.21</td>\n      <td>1260.66</td>\n    </tr>\n    <tr>\n      <th>1</th>\n      <td>2019-10-30</td>\n      <td>188.25</td>\n      <td>60.82</td>\n      <td>1779.99</td>\n      <td>291.45</td>\n      <td>1260.70</td>\n    </tr>\n    <tr>\n      <th>2</th>\n      <td>2019-10-31</td>\n      <td>191.65</td>\n      <td>62.19</td>\n      <td>1776.66</td>\n      <td>287.41</td>\n      <td>1258.80</td>\n    </tr>\n    <tr>\n      <th>3</th>\n      <td>2019-11-01</td>\n      <td>193.62</td>\n      <td>63.96</td>\n      <td>1791.44</td>\n      <td>286.81</td>\n      <td>1272.25</td>\n    </tr>\n    <tr>\n      <th>4</th>\n      <td>2019-11-04</td>\n      <td>194.72</td>\n      <td>64.38</td>\n      <td>1804.66</td>\n      <td>292.86</td>\n      <td>1289.61</td>\n    </tr>\n    <tr>\n      <th>...</th>\n      <td>...</td>\n      <td>...</td>\n      <td>...</td>\n      <td>...</td>\n      <td>...</td>\n      <td>...</td>\n    </tr>\n    <tr>\n      <th>248</th>\n      <td>2020-10-22</td>\n      <td>278.12</td>\n      <td>115.75</td>\n      <td>3176.40</td>\n      <td>485.23</td>\n      <td>1606.66</td>\n    </tr>\n    <tr>\n      <th>249</th>\n      <td>2020-10-23</td>\n      <td>284.79</td>\n      <td>115.04</td>\n      <td>3204.40</td>\n      <td>488.28</td>\n      <td>1632.98</td>\n    </tr>\n    <tr>\n      <th>250</th>\n      <td>2020-10-26</td>\n      <td>277.11</td>\n      <td>115.05</td>\n      <td>3207.04</td>\n      <td>488.24</td>\n      <td>1584.29</td>\n    </tr>\n    <tr>\n      <th>251</th>\n      <td>2020-10-27</td>\n      <td>283.29</td>\n      <td>116.60</td>\n      <td>3286.33</td>\n      <td>488.93</td>\n      <td>1598.88</td>\n    </tr>\n    <tr>\n      <th>252</th>\n      <td>2020-10-28</td>\n      <td>267.67</td>\n      <td>111.20</td>\n      <td>3162.78</td>\n      <td>486.24</td>\n      <td>1510.80</td>\n    </tr>\n  </tbody>\n</table>\n<p>253 rows × 6 columns</p>\n</div>"
     },
     "metadata": {},
     "execution_count": 91
    }
   ],
   "source": [
    "daily_prices.reset_index()"
   ]
  },
  {
   "cell_type": "code",
   "execution_count": null,
   "metadata": {},
   "outputs": [],
   "source": []
  }
 ]
}