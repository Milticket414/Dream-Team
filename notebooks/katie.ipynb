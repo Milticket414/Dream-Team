{
 "metadata": {
  "language_info": {
   "codemirror_mode": {
    "name": "ipython",
    "version": 3
   },
   "file_extension": ".py",
   "mimetype": "text/x-python",
   "name": "python",
   "nbconvert_exporter": "python",
   "pygments_lexer": "ipython3",
   "version": "3.8.3-final"
  },
  "orig_nbformat": 2,
  "kernelspec": {
   "name": "python3",
   "display_name": "Python 3"
  }
 },
 "nbformat": 4,
 "nbformat_minor": 2,
 "cells": [
  {
   "cell_type": "code",
   "execution_count": 8,
   "metadata": {},
   "outputs": [],
   "source": [
    "import pandas as pd\n",
    "import numpy as np \n",
    "import datetime as dt \n",
    "from pathlib import Path \n",
    "%matplotlib inline\n"
   ]
  },
  {
   "cell_type": "code",
   "execution_count": 16,
   "metadata": {},
   "outputs": [
    {
     "output_type": "execute_result",
     "data": {
      "text/plain": [
       "            Price   Open   High    Low   Vol. Change %\n",
       "Date                                                  \n",
       "2020-10-29  77.10  76.20  77.68  75.46  4.65M    1.34%\n",
       "2020-10-28  76.08  76.68  77.43  75.79  4.42M   -2.39%\n",
       "2020-10-27  77.94  79.30  79.73  77.94  2.26M   -1.60%\n",
       "2020-10-26  79.21  79.74  79.86  78.51  2.69M   -1.43%\n",
       "2020-10-23  80.36  80.18  80.67  79.69  2.59M    0.60%"
      ],
      "text/html": "<div>\n<style scoped>\n    .dataframe tbody tr th:only-of-type {\n        vertical-align: middle;\n    }\n\n    .dataframe tbody tr th {\n        vertical-align: top;\n    }\n\n    .dataframe thead th {\n        text-align: right;\n    }\n</style>\n<table border=\"1\" class=\"dataframe\">\n  <thead>\n    <tr style=\"text-align: right;\">\n      <th></th>\n      <th>Price</th>\n      <th>Open</th>\n      <th>High</th>\n      <th>Low</th>\n      <th>Vol.</th>\n      <th>Change %</th>\n    </tr>\n    <tr>\n      <th>Date</th>\n      <th></th>\n      <th></th>\n      <th></th>\n      <th></th>\n      <th></th>\n      <th></th>\n    </tr>\n  </thead>\n  <tbody>\n    <tr>\n      <th>2020-10-29</th>\n      <td>77.10</td>\n      <td>76.20</td>\n      <td>77.68</td>\n      <td>75.46</td>\n      <td>4.65M</td>\n      <td>1.34%</td>\n    </tr>\n    <tr>\n      <th>2020-10-28</th>\n      <td>76.08</td>\n      <td>76.68</td>\n      <td>77.43</td>\n      <td>75.79</td>\n      <td>4.42M</td>\n      <td>-2.39%</td>\n    </tr>\n    <tr>\n      <th>2020-10-27</th>\n      <td>77.94</td>\n      <td>79.30</td>\n      <td>79.73</td>\n      <td>77.94</td>\n      <td>2.26M</td>\n      <td>-1.60%</td>\n    </tr>\n    <tr>\n      <th>2020-10-26</th>\n      <td>79.21</td>\n      <td>79.74</td>\n      <td>79.86</td>\n      <td>78.51</td>\n      <td>2.69M</td>\n      <td>-1.43%</td>\n    </tr>\n    <tr>\n      <th>2020-10-23</th>\n      <td>80.36</td>\n      <td>80.18</td>\n      <td>80.67</td>\n      <td>79.69</td>\n      <td>2.59M</td>\n      <td>0.60%</td>\n    </tr>\n  </tbody>\n</table>\n</div>"
     },
     "metadata": {},
     "execution_count": 16
    }
   ],
   "source": [
    "VNQ_df = pd.read_csv(\"../data/raw_csv/VNQ.csv\", index_col=\"Date\", parse_dates=True, infer_datetime_format=False)\n",
    "VNQ_df.head()\n",
    "\n"
   ]
  },
  {
   "cell_type": "code",
   "execution_count": null,
   "metadata": {},
   "outputs": [],
   "source": []
  }
 ]
}