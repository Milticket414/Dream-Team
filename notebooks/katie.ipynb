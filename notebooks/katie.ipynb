{
 "metadata": {
  "language_info": {
   "codemirror_mode": {
    "name": "ipython",
    "version": 3
   },
   "file_extension": ".py",
   "mimetype": "text/x-python",
   "name": "python",
   "nbconvert_exporter": "python",
   "pygments_lexer": "ipython3",
   "version": "3.8.3-final"
  },
  "orig_nbformat": 2,
  "kernelspec": {
   "name": "python3",
   "display_name": "Python 3"
  }
 },
 "nbformat": 4,
 "nbformat_minor": 2,
 "cells": [
  {
   "cell_type": "code",
   "execution_count": 8,
   "metadata": {},
   "outputs": [],
   "source": [
    "import pandas as pd\n",
    "import numpy as np \n",
    "import datetime as dt \n",
    "from pathlib import Path \n",
    "%matplotlib inline\n"
   ]
  },
  {
   "cell_type": "code",
   "execution_count": 18,
   "metadata": {},
   "outputs": [
    {
     "output_type": "execute_result",
     "data": {
      "text/plain": [
       "            Price   Open   High    Low     Vol. Change %\n",
       "Date                                                    \n",
       "2020-10-29  77.10  76.20  77.68  75.46    4.65M    1.34%\n",
       "2020-10-28  76.08  76.68  77.43  75.79    4.42M   -2.39%\n",
       "2020-10-27  77.94  79.30  79.73  77.94    2.26M   -1.60%\n",
       "2020-10-26  79.21  79.74  79.86  78.51    2.69M   -1.43%\n",
       "2020-10-23  80.36  80.18  80.67  79.69    2.59M    0.60%\n",
       "...           ...    ...    ...    ...      ...      ...\n",
       "2010-10-12  54.04  53.51  54.18  53.28    1.69M    0.71%\n",
       "2010-10-11  53.66  53.74  53.84  53.52  954.90K   -0.02%\n",
       "2010-10-08  53.67  53.55  53.80  53.24    1.12M    0.28%\n",
       "2010-10-07  53.52  53.60  53.89  53.26    1.28M    0.28%\n",
       "2010-10-06  53.37  53.46  53.60  53.09    2.10M   -0.54%\n",
       "\n",
       "[2559 rows x 6 columns]"
      ],
      "text/html": "<div>\n<style scoped>\n    .dataframe tbody tr th:only-of-type {\n        vertical-align: middle;\n    }\n\n    .dataframe tbody tr th {\n        vertical-align: top;\n    }\n\n    .dataframe thead th {\n        text-align: right;\n    }\n</style>\n<table border=\"1\" class=\"dataframe\">\n  <thead>\n    <tr style=\"text-align: right;\">\n      <th></th>\n      <th>Price</th>\n      <th>Open</th>\n      <th>High</th>\n      <th>Low</th>\n      <th>Vol.</th>\n      <th>Change %</th>\n    </tr>\n    <tr>\n      <th>Date</th>\n      <th></th>\n      <th></th>\n      <th></th>\n      <th></th>\n      <th></th>\n      <th></th>\n    </tr>\n  </thead>\n  <tbody>\n    <tr>\n      <th>2020-10-29</th>\n      <td>77.10</td>\n      <td>76.20</td>\n      <td>77.68</td>\n      <td>75.46</td>\n      <td>4.65M</td>\n      <td>1.34%</td>\n    </tr>\n    <tr>\n      <th>2020-10-28</th>\n      <td>76.08</td>\n      <td>76.68</td>\n      <td>77.43</td>\n      <td>75.79</td>\n      <td>4.42M</td>\n      <td>-2.39%</td>\n    </tr>\n    <tr>\n      <th>2020-10-27</th>\n      <td>77.94</td>\n      <td>79.30</td>\n      <td>79.73</td>\n      <td>77.94</td>\n      <td>2.26M</td>\n      <td>-1.60%</td>\n    </tr>\n    <tr>\n      <th>2020-10-26</th>\n      <td>79.21</td>\n      <td>79.74</td>\n      <td>79.86</td>\n      <td>78.51</td>\n      <td>2.69M</td>\n      <td>-1.43%</td>\n    </tr>\n    <tr>\n      <th>2020-10-23</th>\n      <td>80.36</td>\n      <td>80.18</td>\n      <td>80.67</td>\n      <td>79.69</td>\n      <td>2.59M</td>\n      <td>0.60%</td>\n    </tr>\n    <tr>\n      <th>...</th>\n      <td>...</td>\n      <td>...</td>\n      <td>...</td>\n      <td>...</td>\n      <td>...</td>\n      <td>...</td>\n    </tr>\n    <tr>\n      <th>2010-10-12</th>\n      <td>54.04</td>\n      <td>53.51</td>\n      <td>54.18</td>\n      <td>53.28</td>\n      <td>1.69M</td>\n      <td>0.71%</td>\n    </tr>\n    <tr>\n      <th>2010-10-11</th>\n      <td>53.66</td>\n      <td>53.74</td>\n      <td>53.84</td>\n      <td>53.52</td>\n      <td>954.90K</td>\n      <td>-0.02%</td>\n    </tr>\n    <tr>\n      <th>2010-10-08</th>\n      <td>53.67</td>\n      <td>53.55</td>\n      <td>53.80</td>\n      <td>53.24</td>\n      <td>1.12M</td>\n      <td>0.28%</td>\n    </tr>\n    <tr>\n      <th>2010-10-07</th>\n      <td>53.52</td>\n      <td>53.60</td>\n      <td>53.89</td>\n      <td>53.26</td>\n      <td>1.28M</td>\n      <td>0.28%</td>\n    </tr>\n    <tr>\n      <th>2010-10-06</th>\n      <td>53.37</td>\n      <td>53.46</td>\n      <td>53.60</td>\n      <td>53.09</td>\n      <td>2.10M</td>\n      <td>-0.54%</td>\n    </tr>\n  </tbody>\n</table>\n<p>2559 rows × 6 columns</p>\n</div>"
     },
     "metadata": {},
     "execution_count": 18
    }
   ],
   "source": [
    "VNQ_df = pd.read_csv(\"../data/raw_csv/VNQ.csv\", index_col=\"Date\", parse_dates=True, infer_datetime_format=False)\n",
    "VNQ_df.head(-5)\n",
    "\n"
   ]
  },
  {
   "cell_type": "code",
   "execution_count": 21,
   "metadata": {},
   "outputs": [
    {
     "output_type": "execute_result",
     "data": {
      "text/plain": [
       "            Price   Open   High    Low   Vol. Change %\n",
       "Date                                                  \n",
       "2019-10-29  94.13  93.72  94.39  93.60  5.51M    0.61%\n",
       "2019-10-30  94.47  94.02  94.53  93.47  3.88M    0.36%\n",
       "2019-10-31  94.30  94.67  94.76  93.95  4.72M   -0.18%\n",
       "2019-11-01  94.28  94.41  94.79  93.45  6.65M   -0.02%\n",
       "2019-11-04  93.62  94.25  94.28  93.42  3.89M   -0.70%\n",
       "...           ...    ...    ...    ...    ...      ...\n",
       "2020-10-16  80.82  81.41  81.43  80.67  2.93M   -0.71%\n",
       "2020-10-19  79.56  81.03  81.20  79.44  5.11M   -1.56%\n",
       "2020-10-20  80.13  80.09  80.74  79.93  4.04M    0.72%\n",
       "2020-10-21  79.89  79.91  80.27  79.51  2.69M   -0.30%\n",
       "2020-10-22  79.88  79.88  80.22  79.53  3.83M   -0.01%\n",
       "\n",
       "[273 rows x 6 columns]"
      ],
      "text/html": "<div>\n<style scoped>\n    .dataframe tbody tr th:only-of-type {\n        vertical-align: middle;\n    }\n\n    .dataframe tbody tr th {\n        vertical-align: top;\n    }\n\n    .dataframe thead th {\n        text-align: right;\n    }\n</style>\n<table border=\"1\" class=\"dataframe\">\n  <thead>\n    <tr style=\"text-align: right;\">\n      <th></th>\n      <th>Price</th>\n      <th>Open</th>\n      <th>High</th>\n      <th>Low</th>\n      <th>Vol.</th>\n      <th>Change %</th>\n    </tr>\n    <tr>\n      <th>Date</th>\n      <th></th>\n      <th></th>\n      <th></th>\n      <th></th>\n      <th></th>\n      <th></th>\n    </tr>\n  </thead>\n  <tbody>\n    <tr>\n      <th>2019-10-29</th>\n      <td>94.13</td>\n      <td>93.72</td>\n      <td>94.39</td>\n      <td>93.60</td>\n      <td>5.51M</td>\n      <td>0.61%</td>\n    </tr>\n    <tr>\n      <th>2019-10-30</th>\n      <td>94.47</td>\n      <td>94.02</td>\n      <td>94.53</td>\n      <td>93.47</td>\n      <td>3.88M</td>\n      <td>0.36%</td>\n    </tr>\n    <tr>\n      <th>2019-10-31</th>\n      <td>94.30</td>\n      <td>94.67</td>\n      <td>94.76</td>\n      <td>93.95</td>\n      <td>4.72M</td>\n      <td>-0.18%</td>\n    </tr>\n    <tr>\n      <th>2019-11-01</th>\n      <td>94.28</td>\n      <td>94.41</td>\n      <td>94.79</td>\n      <td>93.45</td>\n      <td>6.65M</td>\n      <td>-0.02%</td>\n    </tr>\n    <tr>\n      <th>2019-11-04</th>\n      <td>93.62</td>\n      <td>94.25</td>\n      <td>94.28</td>\n      <td>93.42</td>\n      <td>3.89M</td>\n      <td>-0.70%</td>\n    </tr>\n    <tr>\n      <th>...</th>\n      <td>...</td>\n      <td>...</td>\n      <td>...</td>\n      <td>...</td>\n      <td>...</td>\n      <td>...</td>\n    </tr>\n    <tr>\n      <th>2020-10-16</th>\n      <td>80.82</td>\n      <td>81.41</td>\n      <td>81.43</td>\n      <td>80.67</td>\n      <td>2.93M</td>\n      <td>-0.71%</td>\n    </tr>\n    <tr>\n      <th>2020-10-19</th>\n      <td>79.56</td>\n      <td>81.03</td>\n      <td>81.20</td>\n      <td>79.44</td>\n      <td>5.11M</td>\n      <td>-1.56%</td>\n    </tr>\n    <tr>\n      <th>2020-10-20</th>\n      <td>80.13</td>\n      <td>80.09</td>\n      <td>80.74</td>\n      <td>79.93</td>\n      <td>4.04M</td>\n      <td>0.72%</td>\n    </tr>\n    <tr>\n      <th>2020-10-21</th>\n      <td>79.89</td>\n      <td>79.91</td>\n      <td>80.27</td>\n      <td>79.51</td>\n      <td>2.69M</td>\n      <td>-0.30%</td>\n    </tr>\n    <tr>\n      <th>2020-10-22</th>\n      <td>79.88</td>\n      <td>79.88</td>\n      <td>80.22</td>\n      <td>79.53</td>\n      <td>3.83M</td>\n      <td>-0.01%</td>\n    </tr>\n  </tbody>\n</table>\n<p>273 rows × 6 columns</p>\n</div>"
     },
     "metadata": {},
     "execution_count": 21
    }
   ],
   "source": [
    "VNQ_df_clean = VNQ_df.sort_index(ascending=True)['2019-10-29' : '2020-10-29']\n",
    "VNQ_df_clean.head(-5)"
   ]
  },
  {
   "cell_type": "code",
   "execution_count": 23,
   "metadata": {},
   "outputs": [
    {
     "output_type": "execute_result",
     "data": {
      "text/plain": [
       "            Price\n",
       "Date             \n",
       "2019-10-29  94.13\n",
       "2019-10-30  94.47\n",
       "2019-10-31  94.30\n",
       "2019-11-01  94.28\n",
       "2019-11-04  93.62"
      ],
      "text/html": "<div>\n<style scoped>\n    .dataframe tbody tr th:only-of-type {\n        vertical-align: middle;\n    }\n\n    .dataframe tbody tr th {\n        vertical-align: top;\n    }\n\n    .dataframe thead th {\n        text-align: right;\n    }\n</style>\n<table border=\"1\" class=\"dataframe\">\n  <thead>\n    <tr style=\"text-align: right;\">\n      <th></th>\n      <th>Price</th>\n    </tr>\n    <tr>\n      <th>Date</th>\n      <th></th>\n    </tr>\n  </thead>\n  <tbody>\n    <tr>\n      <th>2019-10-29</th>\n      <td>94.13</td>\n    </tr>\n    <tr>\n      <th>2019-10-30</th>\n      <td>94.47</td>\n    </tr>\n    <tr>\n      <th>2019-10-31</th>\n      <td>94.30</td>\n    </tr>\n    <tr>\n      <th>2019-11-01</th>\n      <td>94.28</td>\n    </tr>\n    <tr>\n      <th>2019-11-04</th>\n      <td>93.62</td>\n    </tr>\n  </tbody>\n</table>\n</div>"
     },
     "metadata": {},
     "execution_count": 23
    }
   ],
   "source": [
    "#dropping unneeded col\n",
    "VNQ_df_clean.drop(columns=[\"Open\",\"High\",\"Low\",\"Vol.\",\"Change %\"], inplace=True)\n",
    "VNQ_df_clean.head()"
   ]
  },
  {
   "cell_type": "code",
   "execution_count": null,
   "metadata": {},
   "outputs": [],
   "source": []
  }
 ]
}