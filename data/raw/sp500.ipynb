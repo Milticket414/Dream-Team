{
 "metadata": {
  "language_info": {
   "codemirror_mode": {
    "name": "ipython",
    "version": 3
   },
   "file_extension": ".py",
   "mimetype": "text/x-python",
   "name": "python",
   "nbconvert_exporter": "python",
   "pygments_lexer": "ipython3",
   "version": "3.8.3-final"
  },
  "orig_nbformat": 2,
  "kernelspec": {
   "name": "python_defaultSpec_1604157261736",
   "display_name": "Python 3.8.3 64-bit ('base': conda)",
   "metadata": {
    "interpreter": {
     "hash": "5abd88fce8c2a038b617f47f35863c445ea15d0efc75d2a0ba9c66763db46452"
    }
   }
  }
 },
 "nbformat": 4,
 "nbformat_minor": 2,
 "cells": [
  {
   "cell_type": "code",
   "execution_count": 1,
   "metadata": {},
   "outputs": [],
   "source": [
    "from pathlib import Path\n",
    "import pandas as pd\n",
    "import datetime as dt\n",
    "import csv"
   ]
  },
  {
   "cell_type": "code",
   "execution_count": 2,
   "metadata": {},
   "outputs": [],
   "source": [
    "# reading in gold csv, making the Date the index\n",
    "sp500_df = pd.read_csv(\"../csv_files/sp500.csv\", index_col=\"Date\", parse_dates=True, infer_datetime_format=False)\n",
    "\n",
    "# renaming Price column GOLD so that we can tell which asset is which\n",
    "sp500_df = sp500_df.rename(columns ={\"Price\" : \"sp500\"})\n",
    "\n",
    "# dropping all columns beside price\n",
    "sp500_data = sp500_df.drop(columns= {\"Open\", \"High\", \"Low\", \"Vol.\", \"Change %\"})\n",
    "\n",
    "# selecting one year of information\n",
    "\n",
    "sp500_one_year = sp500_data.head(365)"
   ]
  },
  {
   "cell_type": "code",
   "execution_count": 3,
   "metadata": {},
   "outputs": [
    {
     "output_type": "execute_result",
     "data": {
      "text/plain": "               sp500\nDate                \n2020-10-29  3,310.11\n2020-10-28  3,271.03\n2020-10-27  3,390.68\n2020-10-26  3,400.97\n2020-10-23  3,465.39",
      "text/html": "<div>\n<style scoped>\n    .dataframe tbody tr th:only-of-type {\n        vertical-align: middle;\n    }\n\n    .dataframe tbody tr th {\n        vertical-align: top;\n    }\n\n    .dataframe thead th {\n        text-align: right;\n    }\n</style>\n<table border=\"1\" class=\"dataframe\">\n  <thead>\n    <tr style=\"text-align: right;\">\n      <th></th>\n      <th>sp500</th>\n    </tr>\n    <tr>\n      <th>Date</th>\n      <th></th>\n    </tr>\n  </thead>\n  <tbody>\n    <tr>\n      <th>2020-10-29</th>\n      <td>3,310.11</td>\n    </tr>\n    <tr>\n      <th>2020-10-28</th>\n      <td>3,271.03</td>\n    </tr>\n    <tr>\n      <th>2020-10-27</th>\n      <td>3,390.68</td>\n    </tr>\n    <tr>\n      <th>2020-10-26</th>\n      <td>3,400.97</td>\n    </tr>\n    <tr>\n      <th>2020-10-23</th>\n      <td>3,465.39</td>\n    </tr>\n  </tbody>\n</table>\n</div>"
     },
     "metadata": {},
     "execution_count": 3
    }
   ],
   "source": [
    "# ten years of data... date and daily price\n",
    "sp500_data.head()"
   ]
  },
  {
   "cell_type": "code",
   "execution_count": 8,
   "metadata": {},
   "outputs": [
    {
     "output_type": "execute_result",
     "data": {
      "text/plain": "              sp500\nDate               \n2020-10-29  3310.11\n2020-10-28  3271.03\n2020-10-27  3390.68\n2020-10-26  3400.97\n2020-10-23  3465.39\n...             ...\n2019-05-29  2783.02\n2019-05-28  2802.39\n2019-05-24  2826.06\n2019-05-23  2822.24\n2019-05-22  2856.27\n\n[365 rows x 1 columns]",
      "text/html": "<div>\n<style scoped>\n    .dataframe tbody tr th:only-of-type {\n        vertical-align: middle;\n    }\n\n    .dataframe tbody tr th {\n        vertical-align: top;\n    }\n\n    .dataframe thead th {\n        text-align: right;\n    }\n</style>\n<table border=\"1\" class=\"dataframe\">\n  <thead>\n    <tr style=\"text-align: right;\">\n      <th></th>\n      <th>sp500</th>\n    </tr>\n    <tr>\n      <th>Date</th>\n      <th></th>\n    </tr>\n  </thead>\n  <tbody>\n    <tr>\n      <th>2020-10-29</th>\n      <td>3310.11</td>\n    </tr>\n    <tr>\n      <th>2020-10-28</th>\n      <td>3271.03</td>\n    </tr>\n    <tr>\n      <th>2020-10-27</th>\n      <td>3390.68</td>\n    </tr>\n    <tr>\n      <th>2020-10-26</th>\n      <td>3400.97</td>\n    </tr>\n    <tr>\n      <th>2020-10-23</th>\n      <td>3465.39</td>\n    </tr>\n    <tr>\n      <th>...</th>\n      <td>...</td>\n    </tr>\n    <tr>\n      <th>2019-05-29</th>\n      <td>2783.02</td>\n    </tr>\n    <tr>\n      <th>2019-05-28</th>\n      <td>2802.39</td>\n    </tr>\n    <tr>\n      <th>2019-05-24</th>\n      <td>2826.06</td>\n    </tr>\n    <tr>\n      <th>2019-05-23</th>\n      <td>2822.24</td>\n    </tr>\n    <tr>\n      <th>2019-05-22</th>\n      <td>2856.27</td>\n    </tr>\n  </tbody>\n</table>\n<p>365 rows × 1 columns</p>\n</div>"
     },
     "metadata": {},
     "execution_count": 8
    }
   ],
   "source": [
    "# one year of data ... date and daily price\n",
    "sp500_one_year\n",
    "\n",
    "sp500_one_year[\"sp500\"] = sp500_one_year[\"sp500\"].str.replace(\",\",\"\").astype(\"float\")\n",
    "\n",
    "sp500_one_year"
   ]
  },
  {
   "cell_type": "code",
   "execution_count": 11,
   "metadata": {},
   "outputs": [],
   "source": [
    "sp500_one_year.to_csv(\"../clean/sp500.csv\")"
   ]
  },
  {
   "cell_type": "code",
   "execution_count": null,
   "metadata": {},
   "outputs": [],
   "source": []
  }
 ]
}