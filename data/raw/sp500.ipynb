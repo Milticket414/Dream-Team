{
 "metadata": {
  "language_info": {
   "codemirror_mode": {
    "name": "ipython",
    "version": 3
   },
   "file_extension": ".py",
   "mimetype": "text/x-python",
   "name": "python",
   "nbconvert_exporter": "python",
   "pygments_lexer": "ipython3",
   "version": "3.8.3-final"
  },
  "orig_nbformat": 2,
  "kernelspec": {
   "name": "Python 3.8.3 64-bit (conda)",
   "display_name": "Python 3.8.3 64-bit (conda)",
   "metadata": {
    "interpreter": {
     "hash": "5abd88fce8c2a038b617f47f35863c445ea15d0efc75d2a0ba9c66763db46452"
    }
   }
  }
 },
 "nbformat": 4,
 "nbformat_minor": 2,
 "cells": [
  {
   "cell_type": "code",
   "execution_count": 1,
   "metadata": {},
   "outputs": [],
   "source": [
    "from pathlib import Path\n",
    "import pandas as pd\n",
    "import datetime as dt\n",
    "import csv"
   ]
  },
  {
   "cell_type": "code",
   "execution_count": 10,
   "metadata": {},
   "outputs": [],
   "source": [
    "# reading in gold csv, making the Date the index\n",
    "sp500_df = pd.read_csv(\"../csv_files/sp500.csv\", index_col=\"Date\", parse_dates=True, infer_datetime_format=False)\n",
    "\n",
    "# renaming Price column GOLD so that we can tell which asset is which\n",
    "sp500_df = sp500_df.rename(columns ={\"Price\" : \"sp500\"})\n",
    "\n",
    "# dropping all columns beside price\n",
    "sp500_data = sp500_df.drop(columns= {\"Open\", \"High\", \"Low\", \"Vol.\", \"Change %\"})\n",
    "\n",
    "# selecting one year of information\n",
    "\n",
    "sp500_one_year = sp500_data.head(252)\n",
    "sp500_five_year = sp500_data.head(1260)"
   ]
  },
  {
   "cell_type": "code",
   "execution_count": 3,
   "metadata": {},
   "outputs": [
    {
     "output_type": "execute_result",
     "data": {
      "text/plain": [
       "               sp500\n",
       "Date                \n",
       "2020-10-29  3,310.11\n",
       "2020-10-28  3,271.03\n",
       "2020-10-27  3,390.68\n",
       "2020-10-26  3,400.97\n",
       "2020-10-23  3,465.39"
      ],
      "text/html": "<div>\n<style scoped>\n    .dataframe tbody tr th:only-of-type {\n        vertical-align: middle;\n    }\n\n    .dataframe tbody tr th {\n        vertical-align: top;\n    }\n\n    .dataframe thead th {\n        text-align: right;\n    }\n</style>\n<table border=\"1\" class=\"dataframe\">\n  <thead>\n    <tr style=\"text-align: right;\">\n      <th></th>\n      <th>sp500</th>\n    </tr>\n    <tr>\n      <th>Date</th>\n      <th></th>\n    </tr>\n  </thead>\n  <tbody>\n    <tr>\n      <th>2020-10-29</th>\n      <td>3,310.11</td>\n    </tr>\n    <tr>\n      <th>2020-10-28</th>\n      <td>3,271.03</td>\n    </tr>\n    <tr>\n      <th>2020-10-27</th>\n      <td>3,390.68</td>\n    </tr>\n    <tr>\n      <th>2020-10-26</th>\n      <td>3,400.97</td>\n    </tr>\n    <tr>\n      <th>2020-10-23</th>\n      <td>3,465.39</td>\n    </tr>\n  </tbody>\n</table>\n</div>"
     },
     "metadata": {},
     "execution_count": 3
    }
   ],
   "source": [
    "# ten years of data... date and daily price\n",
    "sp500_data.head()"
   ]
  },
  {
   "cell_type": "code",
   "execution_count": 5,
   "metadata": {},
   "outputs": [
    {
     "output_type": "execute_result",
     "data": {
      "text/plain": [
       "               sp500\n",
       "Date                \n",
       "2020-10-29  3,310.11\n",
       "2020-10-28  3,271.03\n",
       "2020-10-27  3,390.68\n",
       "2020-10-26  3,400.97\n",
       "2020-10-23  3,465.39\n",
       "...              ...\n",
       "2019-05-29  2,783.02\n",
       "2019-05-28  2,802.39\n",
       "2019-05-24  2,826.06\n",
       "2019-05-23  2,822.24\n",
       "2019-05-22  2,856.27\n",
       "\n",
       "[365 rows x 1 columns]"
      ],
      "text/html": "<div>\n<style scoped>\n    .dataframe tbody tr th:only-of-type {\n        vertical-align: middle;\n    }\n\n    .dataframe tbody tr th {\n        vertical-align: top;\n    }\n\n    .dataframe thead th {\n        text-align: right;\n    }\n</style>\n<table border=\"1\" class=\"dataframe\">\n  <thead>\n    <tr style=\"text-align: right;\">\n      <th></th>\n      <th>sp500</th>\n    </tr>\n    <tr>\n      <th>Date</th>\n      <th></th>\n    </tr>\n  </thead>\n  <tbody>\n    <tr>\n      <th>2020-10-29</th>\n      <td>3,310.11</td>\n    </tr>\n    <tr>\n      <th>2020-10-28</th>\n      <td>3,271.03</td>\n    </tr>\n    <tr>\n      <th>2020-10-27</th>\n      <td>3,390.68</td>\n    </tr>\n    <tr>\n      <th>2020-10-26</th>\n      <td>3,400.97</td>\n    </tr>\n    <tr>\n      <th>2020-10-23</th>\n      <td>3,465.39</td>\n    </tr>\n    <tr>\n      <th>...</th>\n      <td>...</td>\n    </tr>\n    <tr>\n      <th>2019-05-29</th>\n      <td>2,783.02</td>\n    </tr>\n    <tr>\n      <th>2019-05-28</th>\n      <td>2,802.39</td>\n    </tr>\n    <tr>\n      <th>2019-05-24</th>\n      <td>2,826.06</td>\n    </tr>\n    <tr>\n      <th>2019-05-23</th>\n      <td>2,822.24</td>\n    </tr>\n    <tr>\n      <th>2019-05-22</th>\n      <td>2,856.27</td>\n    </tr>\n  </tbody>\n</table>\n<p>365 rows × 1 columns</p>\n</div>"
     },
     "metadata": {},
     "execution_count": 5
    }
   ],
   "source": [
    "# one year of data ... date and daily price\n",
    "sp500_one_year"
   ]
  },
  {
   "cell_type": "code",
   "execution_count": 7,
   "metadata": {},
   "outputs": [
    {
     "output_type": "execute_result",
     "data": {
      "text/plain": [
       "               sp500\n",
       "Date                \n",
       "2020-10-29  3,310.11\n",
       "2020-10-28  3,271.03\n",
       "2020-10-27  3,390.68\n",
       "2020-10-26  3,400.97\n",
       "2020-10-23  3,465.39\n",
       "...              ...\n",
       "2010-10-05  1,160.75\n",
       "2010-10-04  1,137.03\n",
       "2010-10-01  1,146.24\n",
       "2010-09-30  1,141.20\n",
       "2010-09-29  1,144.73\n",
       "\n",
       "[2540 rows x 1 columns]"
      ],
      "text/html": "<div>\n<style scoped>\n    .dataframe tbody tr th:only-of-type {\n        vertical-align: middle;\n    }\n\n    .dataframe tbody tr th {\n        vertical-align: top;\n    }\n\n    .dataframe thead th {\n        text-align: right;\n    }\n</style>\n<table border=\"1\" class=\"dataframe\">\n  <thead>\n    <tr style=\"text-align: right;\">\n      <th></th>\n      <th>sp500</th>\n    </tr>\n    <tr>\n      <th>Date</th>\n      <th></th>\n    </tr>\n  </thead>\n  <tbody>\n    <tr>\n      <th>2020-10-29</th>\n      <td>3,310.11</td>\n    </tr>\n    <tr>\n      <th>2020-10-28</th>\n      <td>3,271.03</td>\n    </tr>\n    <tr>\n      <th>2020-10-27</th>\n      <td>3,390.68</td>\n    </tr>\n    <tr>\n      <th>2020-10-26</th>\n      <td>3,400.97</td>\n    </tr>\n    <tr>\n      <th>2020-10-23</th>\n      <td>3,465.39</td>\n    </tr>\n    <tr>\n      <th>...</th>\n      <td>...</td>\n    </tr>\n    <tr>\n      <th>2010-10-05</th>\n      <td>1,160.75</td>\n    </tr>\n    <tr>\n      <th>2010-10-04</th>\n      <td>1,137.03</td>\n    </tr>\n    <tr>\n      <th>2010-10-01</th>\n      <td>1,146.24</td>\n    </tr>\n    <tr>\n      <th>2010-09-30</th>\n      <td>1,141.20</td>\n    </tr>\n    <tr>\n      <th>2010-09-29</th>\n      <td>1,144.73</td>\n    </tr>\n  </tbody>\n</table>\n<p>2540 rows × 1 columns</p>\n</div>"
     },
     "metadata": {},
     "execution_count": 7
    }
   ],
   "source": [
    "sp500_data"
   ]
  },
  {
   "cell_type": "code",
   "execution_count": 11,
   "metadata": {},
   "outputs": [
    {
     "output_type": "execute_result",
     "data": {
      "text/plain": [
       "               sp500\n",
       "Date                \n",
       "2020-10-29  3,310.11\n",
       "2020-10-28  3,271.03\n",
       "2020-10-27  3,390.68\n",
       "2020-10-26  3,400.97\n",
       "2020-10-23  3,465.39\n",
       "...              ...\n",
       "2015-11-04  2,102.31\n",
       "2015-11-03  2,109.79\n",
       "2015-11-02  2,104.05\n",
       "2015-10-30  2,079.36\n",
       "2015-10-29  2,089.41\n",
       "\n",
       "[1260 rows x 1 columns]"
      ],
      "text/html": "<div>\n<style scoped>\n    .dataframe tbody tr th:only-of-type {\n        vertical-align: middle;\n    }\n\n    .dataframe tbody tr th {\n        vertical-align: top;\n    }\n\n    .dataframe thead th {\n        text-align: right;\n    }\n</style>\n<table border=\"1\" class=\"dataframe\">\n  <thead>\n    <tr style=\"text-align: right;\">\n      <th></th>\n      <th>sp500</th>\n    </tr>\n    <tr>\n      <th>Date</th>\n      <th></th>\n    </tr>\n  </thead>\n  <tbody>\n    <tr>\n      <th>2020-10-29</th>\n      <td>3,310.11</td>\n    </tr>\n    <tr>\n      <th>2020-10-28</th>\n      <td>3,271.03</td>\n    </tr>\n    <tr>\n      <th>2020-10-27</th>\n      <td>3,390.68</td>\n    </tr>\n    <tr>\n      <th>2020-10-26</th>\n      <td>3,400.97</td>\n    </tr>\n    <tr>\n      <th>2020-10-23</th>\n      <td>3,465.39</td>\n    </tr>\n    <tr>\n      <th>...</th>\n      <td>...</td>\n    </tr>\n    <tr>\n      <th>2015-11-04</th>\n      <td>2,102.31</td>\n    </tr>\n    <tr>\n      <th>2015-11-03</th>\n      <td>2,109.79</td>\n    </tr>\n    <tr>\n      <th>2015-11-02</th>\n      <td>2,104.05</td>\n    </tr>\n    <tr>\n      <th>2015-10-30</th>\n      <td>2,079.36</td>\n    </tr>\n    <tr>\n      <th>2015-10-29</th>\n      <td>2,089.41</td>\n    </tr>\n  </tbody>\n</table>\n<p>1260 rows × 1 columns</p>\n</div>"
     },
     "metadata": {},
     "execution_count": 11
    }
   ],
   "source": [
    "sp500_five_year"
   ]
  },
  {
   "cell_type": "code",
   "execution_count": null,
   "metadata": {},
   "outputs": [],
   "source": []
  }
 ]
}