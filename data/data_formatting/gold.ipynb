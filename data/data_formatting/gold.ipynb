{
 "metadata": {
  "language_info": {
   "codemirror_mode": {
    "name": "ipython",
    "version": 3
   },
   "file_extension": ".py",
   "mimetype": "text/x-python",
   "name": "python",
   "nbconvert_exporter": "python",
   "pygments_lexer": "ipython3",
   "version": "3.8.3-final"
  },
  "orig_nbformat": 2,
  "kernelspec": {
   "name": "python_defaultSpec_1604361616687",
   "display_name": "Python 3.8.3 64-bit ('base': conda)"
  }
 },
 "nbformat": 4,
 "nbformat_minor": 2,
 "cells": [
  {
   "cell_type": "code",
   "execution_count": 3,
   "metadata": {},
   "outputs": [],
   "source": [
    "from pathlib import Path\n",
    "import pandas as pd\n",
    "import datetime as dt\n",
    "import csv"
   ]
  },
  {
   "cell_type": "code",
   "execution_count": 23,
   "metadata": {},
   "outputs": [
    {
     "output_type": "error",
     "ename": "TypeError",
     "evalue": "parser_f() got an unexpected keyword argument 'ascending'",
     "traceback": [
      "\u001b[0;31m---------------------------------------------------------------------------\u001b[0m",
      "\u001b[0;31mTypeError\u001b[0m                                 Traceback (most recent call last)",
      "\u001b[0;32m<ipython-input-23-d1b0ae22ad7b>\u001b[0m in \u001b[0;36m<module>\u001b[0;34m\u001b[0m\n\u001b[1;32m      1\u001b[0m \u001b[0;31m# reading in gold csv, making the Date the index\u001b[0m\u001b[0;34m\u001b[0m\u001b[0;34m\u001b[0m\u001b[0;34m\u001b[0m\u001b[0m\n\u001b[0;32m----> 2\u001b[0;31m \u001b[0mgold_df\u001b[0m \u001b[0;34m=\u001b[0m \u001b[0mpd\u001b[0m\u001b[0;34m.\u001b[0m\u001b[0mread_csv\u001b[0m\u001b[0;34m(\u001b[0m\u001b[0;34m\"../raw_csv/gold.csv\"\u001b[0m\u001b[0;34m,\u001b[0m \u001b[0mindex_col\u001b[0m\u001b[0;34m=\u001b[0m\u001b[0;34m\"Date\"\u001b[0m\u001b[0;34m,\u001b[0m \u001b[0mparse_dates\u001b[0m\u001b[0;34m=\u001b[0m\u001b[0;32mTrue\u001b[0m\u001b[0;34m,\u001b[0m \u001b[0minfer_datetime_format\u001b[0m\u001b[0;34m=\u001b[0m\u001b[0;32mTrue\u001b[0m\u001b[0;34m,\u001b[0m \u001b[0mascending\u001b[0m\u001b[0;34m=\u001b[0m\u001b[0;32mFalse\u001b[0m\u001b[0;34m)\u001b[0m\u001b[0;34m\u001b[0m\u001b[0;34m\u001b[0m\u001b[0m\n\u001b[0m\u001b[1;32m      3\u001b[0m \u001b[0;34m\u001b[0m\u001b[0m\n\u001b[1;32m      4\u001b[0m \u001b[0;31m# renaming Price column Gold so that we can tell which asset is which\u001b[0m\u001b[0;34m\u001b[0m\u001b[0;34m\u001b[0m\u001b[0;34m\u001b[0m\u001b[0m\n\u001b[1;32m      5\u001b[0m \u001b[0mgold_df\u001b[0m \u001b[0;34m=\u001b[0m \u001b[0mgold_df\u001b[0m\u001b[0;34m.\u001b[0m\u001b[0mrename\u001b[0m\u001b[0;34m(\u001b[0m\u001b[0mcolumns\u001b[0m \u001b[0;34m=\u001b[0m\u001b[0;34m{\u001b[0m\u001b[0;34m\"Price\"\u001b[0m \u001b[0;34m:\u001b[0m \u001b[0;34m\"GOLD\"\u001b[0m\u001b[0;34m}\u001b[0m\u001b[0;34m)\u001b[0m\u001b[0;34m\u001b[0m\u001b[0;34m\u001b[0m\u001b[0m\n",
      "\u001b[0;31mTypeError\u001b[0m: parser_f() got an unexpected keyword argument 'ascending'"
     ]
    }
   ],
   "source": [
    "# reading in gold csv, making the Date the index\n",
    "gold_df = pd.read_csv(\"../raw_csv/gold.csv\", index_col=\"Date\", parse_dates=True, infer_datetime_format=True, )\n",
    "\n",
    "# renaming Price column Gold so that we can tell which asset is which\n",
    "gold_df = gold_df.rename(columns ={\"Price\" : \"GOLD\"})\n",
    "\n",
    "# dropping all columns beside price\n",
    "gold_data = gold_df.drop(columns= {\"Open\", \"High\", \"Low\", \"Vol.\", \"Change %\"})\n",
    "\n",
    "# selecting one year of information\n",
    "\n",
    "gold_one_year = gold_data.head(365)"
   ]
  },
  {
   "cell_type": "code",
   "execution_count": 20,
   "metadata": {},
   "outputs": [
    {
     "output_type": "execute_result",
     "data": {
      "text/plain": "                GOLD\nDate                \n2020-10-29  1,868.65\n2020-10-28  1,879.20\n2020-10-27  1,911.90\n2020-10-26  1,905.70\n2020-10-23  1,905.20",
      "text/html": "<div>\n<style scoped>\n    .dataframe tbody tr th:only-of-type {\n        vertical-align: middle;\n    }\n\n    .dataframe tbody tr th {\n        vertical-align: top;\n    }\n\n    .dataframe thead th {\n        text-align: right;\n    }\n</style>\n<table border=\"1\" class=\"dataframe\">\n  <thead>\n    <tr style=\"text-align: right;\">\n      <th></th>\n      <th>GOLD</th>\n    </tr>\n    <tr>\n      <th>Date</th>\n      <th></th>\n    </tr>\n  </thead>\n  <tbody>\n    <tr>\n      <th>2020-10-29</th>\n      <td>1,868.65</td>\n    </tr>\n    <tr>\n      <th>2020-10-28</th>\n      <td>1,879.20</td>\n    </tr>\n    <tr>\n      <th>2020-10-27</th>\n      <td>1,911.90</td>\n    </tr>\n    <tr>\n      <th>2020-10-26</th>\n      <td>1,905.70</td>\n    </tr>\n    <tr>\n      <th>2020-10-23</th>\n      <td>1,905.20</td>\n    </tr>\n  </tbody>\n</table>\n</div>"
     },
     "metadata": {},
     "execution_count": 20
    }
   ],
   "source": [
    "# ten years of data... date and daily price\n",
    "gold_data.head()"
   ]
  },
  {
   "cell_type": "code",
   "execution_count": 12,
   "metadata": {},
   "outputs": [
    {
     "output_type": "execute_result",
     "data": {
      "text/plain": "               GOLD\nDate               \n2020-10-29  1868.65\n2020-10-28  1879.20\n2020-10-27  1911.90\n2020-10-26  1905.70\n2020-10-23  1905.20",
      "text/html": "<div>\n<style scoped>\n    .dataframe tbody tr th:only-of-type {\n        vertical-align: middle;\n    }\n\n    .dataframe tbody tr th {\n        vertical-align: top;\n    }\n\n    .dataframe thead th {\n        text-align: right;\n    }\n</style>\n<table border=\"1\" class=\"dataframe\">\n  <thead>\n    <tr style=\"text-align: right;\">\n      <th></th>\n      <th>GOLD</th>\n    </tr>\n    <tr>\n      <th>Date</th>\n      <th></th>\n    </tr>\n  </thead>\n  <tbody>\n    <tr>\n      <th>2020-10-29</th>\n      <td>1868.65</td>\n    </tr>\n    <tr>\n      <th>2020-10-28</th>\n      <td>1879.20</td>\n    </tr>\n    <tr>\n      <th>2020-10-27</th>\n      <td>1911.90</td>\n    </tr>\n    <tr>\n      <th>2020-10-26</th>\n      <td>1905.70</td>\n    </tr>\n    <tr>\n      <th>2020-10-23</th>\n      <td>1905.20</td>\n    </tr>\n  </tbody>\n</table>\n</div>"
     },
     "metadata": {},
     "execution_count": 12
    }
   ],
   "source": [
    "gold_data[\"GOLD\"] = gold_data['GOLD'].str.replace(\",\", \"\").astype(\"float\")\n",
    "gold_data.head()"
   ]
  },
  {
   "cell_type": "code",
   "execution_count": 21,
   "metadata": {},
   "outputs": [
    {
     "output_type": "execute_result",
     "data": {
      "text/plain": "               GOLD\nDate               \n2020-10-29  1868.65\n2020-10-28  1879.20\n2020-10-27  1911.90\n2020-10-26  1905.70\n2020-10-23  1905.20\n...             ...\n2019-06-20  1429.40\n2019-06-19  1384.40\n2019-06-18  1387.40\n2019-06-17  1379.60\n2019-06-14  1381.50\n\n[365 rows x 1 columns]",
      "text/html": "<div>\n<style scoped>\n    .dataframe tbody tr th:only-of-type {\n        vertical-align: middle;\n    }\n\n    .dataframe tbody tr th {\n        vertical-align: top;\n    }\n\n    .dataframe thead th {\n        text-align: right;\n    }\n</style>\n<table border=\"1\" class=\"dataframe\">\n  <thead>\n    <tr style=\"text-align: right;\">\n      <th></th>\n      <th>GOLD</th>\n    </tr>\n    <tr>\n      <th>Date</th>\n      <th></th>\n    </tr>\n  </thead>\n  <tbody>\n    <tr>\n      <th>2020-10-29</th>\n      <td>1868.65</td>\n    </tr>\n    <tr>\n      <th>2020-10-28</th>\n      <td>1879.20</td>\n    </tr>\n    <tr>\n      <th>2020-10-27</th>\n      <td>1911.90</td>\n    </tr>\n    <tr>\n      <th>2020-10-26</th>\n      <td>1905.70</td>\n    </tr>\n    <tr>\n      <th>2020-10-23</th>\n      <td>1905.20</td>\n    </tr>\n    <tr>\n      <th>...</th>\n      <td>...</td>\n    </tr>\n    <tr>\n      <th>2019-06-20</th>\n      <td>1429.40</td>\n    </tr>\n    <tr>\n      <th>2019-06-19</th>\n      <td>1384.40</td>\n    </tr>\n    <tr>\n      <th>2019-06-18</th>\n      <td>1387.40</td>\n    </tr>\n    <tr>\n      <th>2019-06-17</th>\n      <td>1379.60</td>\n    </tr>\n    <tr>\n      <th>2019-06-14</th>\n      <td>1381.50</td>\n    </tr>\n  </tbody>\n</table>\n<p>365 rows × 1 columns</p>\n</div>"
     },
     "metadata": {},
     "execution_count": 21
    }
   ],
   "source": [
    "# one year of data ... date and daily price\n",
    "gold_one_year[\"GOLD\"] = gold_one_year[\"GOLD\"].str.replace(\",\",\"\").astype(\"float\")\n",
    "\n",
    "gold_one_year"
   ]
  },
  {
   "cell_type": "code",
   "execution_count": 22,
   "metadata": {},
   "outputs": [],
   "source": [
    "gold_one_year.to_csv(\"../clean/Gold.csv\")"
   ]
  },
  {
   "cell_type": "code",
   "execution_count": null,
   "metadata": {},
   "outputs": [],
   "source": []
  }
 ]
}